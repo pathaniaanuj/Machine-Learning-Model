{
 "cells": [
  {
   "cell_type": "markdown",
   "id": "237a537f",
   "metadata": {},
   "source": [
    "# # This dataset is about house rents in islamabad\n",
    "location:location of house in islamabad\n",
    "\n",
    "Area: area of house in Marla\n",
    "\n",
    "Bedroom:Number of bedrooms in the house\n",
    "\n",
    "Baths: number of bathrooms in the house\n",
    "\n",
    "Price: Price of house in pakistani rupee (pkr)"
   ]
  },
  {
   "cell_type": "code",
   "execution_count": 1,
   "id": "0f19b47a",
   "metadata": {},
   "outputs": [],
   "source": [
    "import numpy as nm\n",
    "import pandas as pd\n",
    "import seaborn as sns\n",
    "import matplotlib.pyplot as plt\n",
    "%matplotlib inline"
   ]
  },
  {
   "cell_type": "code",
   "execution_count": 2,
   "id": "3032b6d2",
   "metadata": {},
   "outputs": [],
   "source": [
    "# store the dataset in house variable\n",
    "house=pd.read_csv(\"C:\\\\Users\\\\anujr\\\\OneDrive\\\\Documents\\\\data analyst\\\\raw data\\\\House_for_rent_islamabad_pk.csv\")"
   ]
  },
  {
   "cell_type": "code",
   "execution_count": 3,
   "id": "759f5ae5",
   "metadata": {},
   "outputs": [
    {
     "data": {
      "text/html": [
       "<div>\n",
       "<style scoped>\n",
       "    .dataframe tbody tr th:only-of-type {\n",
       "        vertical-align: middle;\n",
       "    }\n",
       "\n",
       "    .dataframe tbody tr th {\n",
       "        vertical-align: top;\n",
       "    }\n",
       "\n",
       "    .dataframe thead th {\n",
       "        text-align: right;\n",
       "    }\n",
       "</style>\n",
       "<table border=\"1\" class=\"dataframe\">\n",
       "  <thead>\n",
       "    <tr style=\"text-align: right;\">\n",
       "      <th></th>\n",
       "      <th>Unnamed: 0</th>\n",
       "      <th>Location</th>\n",
       "      <th>Area</th>\n",
       "      <th>Bedrooms</th>\n",
       "      <th>Baths</th>\n",
       "      <th>Price</th>\n",
       "    </tr>\n",
       "  </thead>\n",
       "  <tbody>\n",
       "    <tr>\n",
       "      <th>0</th>\n",
       "      <td>0</td>\n",
       "      <td>F-8</td>\n",
       "      <td>26.0</td>\n",
       "      <td>4.0</td>\n",
       "      <td>5.0</td>\n",
       "      <td>420000</td>\n",
       "    </tr>\n",
       "    <tr>\n",
       "      <th>1</th>\n",
       "      <td>1</td>\n",
       "      <td>DHA</td>\n",
       "      <td>11.0</td>\n",
       "      <td>3.0</td>\n",
       "      <td>4.0</td>\n",
       "      <td>100000</td>\n",
       "    </tr>\n",
       "    <tr>\n",
       "      <th>2</th>\n",
       "      <td>2</td>\n",
       "      <td>F-8</td>\n",
       "      <td>26.0</td>\n",
       "      <td>4.0</td>\n",
       "      <td>5.0</td>\n",
       "      <td>650000</td>\n",
       "    </tr>\n",
       "    <tr>\n",
       "      <th>3</th>\n",
       "      <td>3</td>\n",
       "      <td>F-6</td>\n",
       "      <td>20.0</td>\n",
       "      <td>6.0</td>\n",
       "      <td>6.0</td>\n",
       "      <td>450000</td>\n",
       "    </tr>\n",
       "    <tr>\n",
       "      <th>4</th>\n",
       "      <td>4</td>\n",
       "      <td>D-17</td>\n",
       "      <td>10.0</td>\n",
       "      <td>9.0</td>\n",
       "      <td>6.0</td>\n",
       "      <td>120000</td>\n",
       "    </tr>\n",
       "  </tbody>\n",
       "</table>\n",
       "</div>"
      ],
      "text/plain": [
       "   Unnamed: 0 Location  Area  Bedrooms  Baths   Price\n",
       "0           0      F-8  26.0       4.0    5.0  420000\n",
       "1           1      DHA  11.0       3.0    4.0  100000\n",
       "2           2      F-8  26.0       4.0    5.0  650000\n",
       "3           3      F-6  20.0       6.0    6.0  450000\n",
       "4           4     D-17  10.0       9.0    6.0  120000"
      ]
     },
     "execution_count": 3,
     "metadata": {},
     "output_type": "execute_result"
    }
   ],
   "source": [
    "house.head()"
   ]
  },
  {
   "cell_type": "code",
   "execution_count": 4,
   "id": "e271bc0e",
   "metadata": {},
   "outputs": [],
   "source": [
    "house=house.drop(columns=house.columns[0],axis=1)"
   ]
  },
  {
   "cell_type": "code",
   "execution_count": 5,
   "id": "ae8ae927",
   "metadata": {},
   "outputs": [
    {
     "data": {
      "text/html": [
       "<div>\n",
       "<style scoped>\n",
       "    .dataframe tbody tr th:only-of-type {\n",
       "        vertical-align: middle;\n",
       "    }\n",
       "\n",
       "    .dataframe tbody tr th {\n",
       "        vertical-align: top;\n",
       "    }\n",
       "\n",
       "    .dataframe thead th {\n",
       "        text-align: right;\n",
       "    }\n",
       "</style>\n",
       "<table border=\"1\" class=\"dataframe\">\n",
       "  <thead>\n",
       "    <tr style=\"text-align: right;\">\n",
       "      <th></th>\n",
       "      <th>Location</th>\n",
       "      <th>Area</th>\n",
       "      <th>Bedrooms</th>\n",
       "      <th>Baths</th>\n",
       "      <th>Price</th>\n",
       "    </tr>\n",
       "  </thead>\n",
       "  <tbody>\n",
       "    <tr>\n",
       "      <th>0</th>\n",
       "      <td>F-8</td>\n",
       "      <td>26.0</td>\n",
       "      <td>4.0</td>\n",
       "      <td>5.0</td>\n",
       "      <td>420000</td>\n",
       "    </tr>\n",
       "    <tr>\n",
       "      <th>1</th>\n",
       "      <td>DHA</td>\n",
       "      <td>11.0</td>\n",
       "      <td>3.0</td>\n",
       "      <td>4.0</td>\n",
       "      <td>100000</td>\n",
       "    </tr>\n",
       "    <tr>\n",
       "      <th>2</th>\n",
       "      <td>F-8</td>\n",
       "      <td>26.0</td>\n",
       "      <td>4.0</td>\n",
       "      <td>5.0</td>\n",
       "      <td>650000</td>\n",
       "    </tr>\n",
       "    <tr>\n",
       "      <th>3</th>\n",
       "      <td>F-6</td>\n",
       "      <td>20.0</td>\n",
       "      <td>6.0</td>\n",
       "      <td>6.0</td>\n",
       "      <td>450000</td>\n",
       "    </tr>\n",
       "    <tr>\n",
       "      <th>4</th>\n",
       "      <td>D-17</td>\n",
       "      <td>10.0</td>\n",
       "      <td>9.0</td>\n",
       "      <td>6.0</td>\n",
       "      <td>120000</td>\n",
       "    </tr>\n",
       "  </tbody>\n",
       "</table>\n",
       "</div>"
      ],
      "text/plain": [
       "  Location  Area  Bedrooms  Baths   Price\n",
       "0      F-8  26.0       4.0    5.0  420000\n",
       "1      DHA  11.0       3.0    4.0  100000\n",
       "2      F-8  26.0       4.0    5.0  650000\n",
       "3      F-6  20.0       6.0    6.0  450000\n",
       "4     D-17  10.0       9.0    6.0  120000"
      ]
     },
     "execution_count": 5,
     "metadata": {},
     "output_type": "execute_result"
    }
   ],
   "source": [
    "house.head()"
   ]
  },
  {
   "cell_type": "code",
   "execution_count": 6,
   "id": "5d9da0e8",
   "metadata": {},
   "outputs": [
    {
     "data": {
      "text/plain": [
       "(3899, 5)"
      ]
     },
     "execution_count": 6,
     "metadata": {},
     "output_type": "execute_result"
    }
   ],
   "source": [
    "house.shape # there are 3899 observations and 5 columns"
   ]
  },
  {
   "cell_type": "code",
   "execution_count": 7,
   "id": "e0a2c329",
   "metadata": {},
   "outputs": [
    {
     "name": "stdout",
     "output_type": "stream",
     "text": [
      "<class 'pandas.core.frame.DataFrame'>\n",
      "RangeIndex: 3899 entries, 0 to 3898\n",
      "Data columns (total 5 columns):\n",
      " #   Column    Non-Null Count  Dtype  \n",
      "---  ------    --------------  -----  \n",
      " 0   Location  3899 non-null   object \n",
      " 1   Area      3899 non-null   float64\n",
      " 2   Bedrooms  3762 non-null   float64\n",
      " 3   Baths     3616 non-null   float64\n",
      " 4   Price     3899 non-null   int64  \n",
      "dtypes: float64(3), int64(1), object(1)\n",
      "memory usage: 152.4+ KB\n"
     ]
    }
   ],
   "source": [
    "house.info() # 3 columns having float datatype , location have object and price have int datatype"
   ]
  },
  {
   "cell_type": "code",
   "execution_count": 8,
   "id": "036fc529",
   "metadata": {},
   "outputs": [
    {
     "data": {
      "text/html": [
       "<div>\n",
       "<style scoped>\n",
       "    .dataframe tbody tr th:only-of-type {\n",
       "        vertical-align: middle;\n",
       "    }\n",
       "\n",
       "    .dataframe tbody tr th {\n",
       "        vertical-align: top;\n",
       "    }\n",
       "\n",
       "    .dataframe thead th {\n",
       "        text-align: right;\n",
       "    }\n",
       "</style>\n",
       "<table border=\"1\" class=\"dataframe\">\n",
       "  <thead>\n",
       "    <tr style=\"text-align: right;\">\n",
       "      <th></th>\n",
       "      <th>Area</th>\n",
       "      <th>Bedrooms</th>\n",
       "      <th>Baths</th>\n",
       "      <th>Price</th>\n",
       "    </tr>\n",
       "  </thead>\n",
       "  <tbody>\n",
       "    <tr>\n",
       "      <th>count</th>\n",
       "      <td>3899.000000</td>\n",
       "      <td>3762.00000</td>\n",
       "      <td>3616.000000</td>\n",
       "      <td>3.899000e+03</td>\n",
       "    </tr>\n",
       "    <tr>\n",
       "      <th>mean</th>\n",
       "      <td>22.544883</td>\n",
       "      <td>5.14487</td>\n",
       "      <td>5.111449</td>\n",
       "      <td>4.950650e+05</td>\n",
       "    </tr>\n",
       "    <tr>\n",
       "      <th>std</th>\n",
       "      <td>84.336261</td>\n",
       "      <td>1.66992</td>\n",
       "      <td>1.148465</td>\n",
       "      <td>6.327347e+05</td>\n",
       "    </tr>\n",
       "    <tr>\n",
       "      <th>min</th>\n",
       "      <td>0.900000</td>\n",
       "      <td>1.00000</td>\n",
       "      <td>1.000000</td>\n",
       "      <td>0.000000e+00</td>\n",
       "    </tr>\n",
       "    <tr>\n",
       "      <th>25%</th>\n",
       "      <td>10.000000</td>\n",
       "      <td>4.00000</td>\n",
       "      <td>4.000000</td>\n",
       "      <td>1.200000e+05</td>\n",
       "    </tr>\n",
       "    <tr>\n",
       "      <th>50%</th>\n",
       "      <td>20.000000</td>\n",
       "      <td>5.00000</td>\n",
       "      <td>6.000000</td>\n",
       "      <td>2.500000e+05</td>\n",
       "    </tr>\n",
       "    <tr>\n",
       "      <th>75%</th>\n",
       "      <td>24.000000</td>\n",
       "      <td>6.00000</td>\n",
       "      <td>6.000000</td>\n",
       "      <td>6.500000e+05</td>\n",
       "    </tr>\n",
       "    <tr>\n",
       "      <th>max</th>\n",
       "      <td>4500.000000</td>\n",
       "      <td>11.00000</td>\n",
       "      <td>10.000000</td>\n",
       "      <td>8.000000e+06</td>\n",
       "    </tr>\n",
       "  </tbody>\n",
       "</table>\n",
       "</div>"
      ],
      "text/plain": [
       "              Area    Bedrooms        Baths         Price\n",
       "count  3899.000000  3762.00000  3616.000000  3.899000e+03\n",
       "mean     22.544883     5.14487     5.111449  4.950650e+05\n",
       "std      84.336261     1.66992     1.148465  6.327347e+05\n",
       "min       0.900000     1.00000     1.000000  0.000000e+00\n",
       "25%      10.000000     4.00000     4.000000  1.200000e+05\n",
       "50%      20.000000     5.00000     6.000000  2.500000e+05\n",
       "75%      24.000000     6.00000     6.000000  6.500000e+05\n",
       "max    4500.000000    11.00000    10.000000  8.000000e+06"
      ]
     },
     "execution_count": 8,
     "metadata": {},
     "output_type": "execute_result"
    }
   ],
   "source": [
    "house.describe() # it gives a short summary about dataset"
   ]
  },
  {
   "cell_type": "code",
   "execution_count": 9,
   "id": "275dc26e",
   "metadata": {},
   "outputs": [],
   "source": [
    "# handling missing values"
   ]
  },
  {
   "cell_type": "code",
   "execution_count": 10,
   "id": "6e754c3b",
   "metadata": {},
   "outputs": [
    {
     "data": {
      "text/plain": [
       "<Axes: >"
      ]
     },
     "execution_count": 10,
     "metadata": {},
     "output_type": "execute_result"
    },
    {
     "data": {
      "image/png": "[encoded data removed]",
      "text/plain": [
       "<Figure size 640x480 with 2 Axes>"
      ]
     },
     "metadata": {},
     "output_type": "display_data"
    }
   ],
   "source": [
    "sns.heatmap(house.isnull())"
   ]
  },
  {
   "cell_type": "code",
   "execution_count": 11,
   "id": "a6d38c1b",
   "metadata": {},
   "outputs": [
    {
     "data": {
      "text/plain": [
       "Location      0\n",
       "Area          0\n",
       "Bedrooms    137\n",
       "Baths       283\n",
       "Price         0\n",
       "dtype: int64"
      ]
     },
     "execution_count": 11,
     "metadata": {},
     "output_type": "execute_result"
    }
   ],
   "source": [
    "house.isnull().sum()"
   ]
  },
  {
   "cell_type": "code",
   "execution_count": 12,
   "id": "8277bc86",
   "metadata": {},
   "outputs": [
    {
     "data": {
      "text/plain": [
       "10.771992818671453"
      ]
     },
     "execution_count": 12,
     "metadata": {},
     "output_type": "execute_result"
    }
   ],
   "source": [
    "(420/3899)*100 # in our dataset 10 percent data having null values"
   ]
  },
  {
   "cell_type": "code",
   "execution_count": 13,
   "id": "73658c25",
   "metadata": {},
   "outputs": [
    {
     "data": {
      "text/plain": [
       "(array([  15.,   90.,  289.,  574.,  804., 1825.,    5.,    9.,    2.,\n",
       "           3.]),\n",
       " array([ 1. ,  1.9,  2.8,  3.7,  4.6,  5.5,  6.4,  7.3,  8.2,  9.1, 10. ]),\n",
       " <BarContainer object of 10 artists>)"
      ]
     },
     "execution_count": 13,
     "metadata": {},
     "output_type": "execute_result"
    },
    {
     "data": {
      "image/png": "[encoded data removed]",
      "text/plain": [
       "<Figure size 640x480 with 1 Axes>"
      ]
     },
     "metadata": {},
     "output_type": "display_data"
    }
   ],
   "source": [
    "plt.hist(house[\"Baths\"],rwidth=0.7)"
   ]
  },
  {
   "cell_type": "code",
   "execution_count": 14,
   "id": "3716670b",
   "metadata": {},
   "outputs": [
    {
     "data": {
      "text/plain": [
       "(array([ 10., 109., 397., 846., 973., 902., 238., 120.,  57., 110.]),\n",
       " array([ 1.,  2.,  3.,  4.,  5.,  6.,  7.,  8.,  9., 10., 11.]),\n",
       " <BarContainer object of 10 artists>)"
      ]
     },
     "execution_count": 14,
     "metadata": {},
     "output_type": "execute_result"
    },
    {
     "data": {
      "image/png": "[encoded data removed]",
      "text/plain": [
       "<Figure size 640x480 with 1 Axes>"
      ]
     },
     "metadata": {},
     "output_type": "display_data"
    }
   ],
   "source": [
    "plt.hist(house['Bedrooms'],rwidth=0.7)"
   ]
  },
  {
   "cell_type": "code",
   "execution_count": 15,
   "id": "ddf779d5",
   "metadata": {},
   "outputs": [],
   "source": [
    "mean_by_location=house.groupby('Location')[\"Baths\"].transform('median')"
   ]
  },
  {
   "cell_type": "code",
   "execution_count": 16,
   "id": "79c1880a",
   "metadata": {},
   "outputs": [
    {
     "data": {
      "text/plain": [
       "0       6.0\n",
       "1       6.0\n",
       "2       6.0\n",
       "3       6.0\n",
       "4       6.0\n",
       "       ... \n",
       "3894    6.0\n",
       "3895    6.0\n",
       "3896    6.0\n",
       "3897    5.0\n",
       "3898    6.0\n",
       "Name: Baths, Length: 3899, dtype: float64"
      ]
     },
     "execution_count": 16,
     "metadata": {},
     "output_type": "execute_result"
    }
   ],
   "source": [
    "mean_by_location=mean_by_location.round() \n",
    "mean_by_location\n"
   ]
  },
  {
   "cell_type": "code",
   "execution_count": 17,
   "id": "ee325c00",
   "metadata": {},
   "outputs": [],
   "source": [
    "house['Baths'].fillna(mean_by_location,inplace=True) # replacing fill na value with mean according to their locations\n"
   ]
  },
  {
   "cell_type": "code",
   "execution_count": 18,
   "id": "45faf991",
   "metadata": {},
   "outputs": [
    {
     "data": {
      "text/plain": [
       "Location      0\n",
       "Area          0\n",
       "Bedrooms    137\n",
       "Baths         2\n",
       "Price         0\n",
       "dtype: int64"
      ]
     },
     "execution_count": 18,
     "metadata": {},
     "output_type": "execute_result"
    }
   ],
   "source": [
    "house.isnull().sum()"
   ]
  },
  {
   "cell_type": "code",
   "execution_count": 19,
   "id": "2d93d974",
   "metadata": {},
   "outputs": [],
   "source": [
    "mean_by_location2=house.groupby('Location')[\"Bedrooms\"].transform('mean')"
   ]
  },
  {
   "cell_type": "code",
   "execution_count": 20,
   "id": "ef59802a",
   "metadata": {},
   "outputs": [],
   "source": [
    "mean_by_location2=mean_by_location2.round()"
   ]
  },
  {
   "cell_type": "code",
   "execution_count": 21,
   "id": "59262f25",
   "metadata": {},
   "outputs": [
    {
     "data": {
      "text/html": [
       "<div>\n",
       "<style scoped>\n",
       "    .dataframe tbody tr th:only-of-type {\n",
       "        vertical-align: middle;\n",
       "    }\n",
       "\n",
       "    .dataframe tbody tr th {\n",
       "        vertical-align: top;\n",
       "    }\n",
       "\n",
       "    .dataframe thead th {\n",
       "        text-align: right;\n",
       "    }\n",
       "</style>\n",
       "<table border=\"1\" class=\"dataframe\">\n",
       "  <thead>\n",
       "    <tr style=\"text-align: right;\">\n",
       "      <th></th>\n",
       "      <th>Location</th>\n",
       "      <th>Area</th>\n",
       "      <th>Bedrooms</th>\n",
       "      <th>Baths</th>\n",
       "      <th>Price</th>\n",
       "    </tr>\n",
       "  </thead>\n",
       "  <tbody>\n",
       "    <tr>\n",
       "      <th>0</th>\n",
       "      <td>F-8</td>\n",
       "      <td>26.0</td>\n",
       "      <td>4.0</td>\n",
       "      <td>5.0</td>\n",
       "      <td>420000</td>\n",
       "    </tr>\n",
       "    <tr>\n",
       "      <th>1</th>\n",
       "      <td>DHA</td>\n",
       "      <td>11.0</td>\n",
       "      <td>3.0</td>\n",
       "      <td>4.0</td>\n",
       "      <td>100000</td>\n",
       "    </tr>\n",
       "    <tr>\n",
       "      <th>2</th>\n",
       "      <td>F-8</td>\n",
       "      <td>26.0</td>\n",
       "      <td>4.0</td>\n",
       "      <td>5.0</td>\n",
       "      <td>650000</td>\n",
       "    </tr>\n",
       "    <tr>\n",
       "      <th>3</th>\n",
       "      <td>F-6</td>\n",
       "      <td>20.0</td>\n",
       "      <td>6.0</td>\n",
       "      <td>6.0</td>\n",
       "      <td>450000</td>\n",
       "    </tr>\n",
       "    <tr>\n",
       "      <th>4</th>\n",
       "      <td>D-17</td>\n",
       "      <td>10.0</td>\n",
       "      <td>9.0</td>\n",
       "      <td>6.0</td>\n",
       "      <td>120000</td>\n",
       "    </tr>\n",
       "  </tbody>\n",
       "</table>\n",
       "</div>"
      ],
      "text/plain": [
       "  Location  Area  Bedrooms  Baths   Price\n",
       "0      F-8  26.0       4.0    5.0  420000\n",
       "1      DHA  11.0       3.0    4.0  100000\n",
       "2      F-8  26.0       4.0    5.0  650000\n",
       "3      F-6  20.0       6.0    6.0  450000\n",
       "4     D-17  10.0       9.0    6.0  120000"
      ]
     },
     "execution_count": 21,
     "metadata": {},
     "output_type": "execute_result"
    }
   ],
   "source": [
    "house.head()"
   ]
  },
  {
   "cell_type": "code",
   "execution_count": 22,
   "id": "13dfc11e",
   "metadata": {},
   "outputs": [],
   "source": [
    "house['Bedrooms'].fillna(mean_by_location2,inplace=True) # replacing fill na value with mean according to their locations"
   ]
  },
  {
   "cell_type": "code",
   "execution_count": 23,
   "id": "e032114b",
   "metadata": {},
   "outputs": [
    {
     "data": {
      "text/plain": [
       "Location    0\n",
       "Area        0\n",
       "Bedrooms    2\n",
       "Baths       2\n",
       "Price       0\n",
       "dtype: int64"
      ]
     },
     "execution_count": 23,
     "metadata": {},
     "output_type": "execute_result"
    }
   ],
   "source": [
    "house.isnull().sum()"
   ]
  },
  {
   "cell_type": "code",
   "execution_count": 24,
   "id": "2fed01e7",
   "metadata": {},
   "outputs": [
    {
     "data": {
      "text/html": [
       "<div>\n",
       "<style scoped>\n",
       "    .dataframe tbody tr th:only-of-type {\n",
       "        vertical-align: middle;\n",
       "    }\n",
       "\n",
       "    .dataframe tbody tr th {\n",
       "        vertical-align: top;\n",
       "    }\n",
       "\n",
       "    .dataframe thead th {\n",
       "        text-align: right;\n",
       "    }\n",
       "</style>\n",
       "<table border=\"1\" class=\"dataframe\">\n",
       "  <thead>\n",
       "    <tr style=\"text-align: right;\">\n",
       "      <th></th>\n",
       "      <th>Location</th>\n",
       "      <th>Area</th>\n",
       "      <th>Bedrooms</th>\n",
       "      <th>Baths</th>\n",
       "      <th>Price</th>\n",
       "    </tr>\n",
       "  </thead>\n",
       "  <tbody>\n",
       "    <tr>\n",
       "      <th>826</th>\n",
       "      <td>E-16</td>\n",
       "      <td>8.0</td>\n",
       "      <td>NaN</td>\n",
       "      <td>NaN</td>\n",
       "      <td>60000</td>\n",
       "    </tr>\n",
       "    <tr>\n",
       "      <th>829</th>\n",
       "      <td>E-16</td>\n",
       "      <td>10.0</td>\n",
       "      <td>NaN</td>\n",
       "      <td>NaN</td>\n",
       "      <td>35000</td>\n",
       "    </tr>\n",
       "  </tbody>\n",
       "</table>\n",
       "</div>"
      ],
      "text/plain": [
       "    Location  Area  Bedrooms  Baths  Price\n",
       "826     E-16   8.0       NaN    NaN  60000\n",
       "829     E-16  10.0       NaN    NaN  35000"
      ]
     },
     "execution_count": 24,
     "metadata": {},
     "output_type": "execute_result"
    }
   ],
   "source": [
    "house[house.isnull().any(axis=1)]"
   ]
  },
  {
   "cell_type": "code",
   "execution_count": 25,
   "id": "fe78fc4d",
   "metadata": {},
   "outputs": [
    {
     "data": {
      "text/plain": [
       "F-7                   440\n",
       "DHA                   412\n",
       "F-8                   374\n",
       "Bahria                298\n",
       "G-13                  275\n",
       "                     ... \n",
       "I-13                    1\n",
       "Gulshan-e-Khudadad      1\n",
       "Taramrri                1\n",
       "G-12                    1\n",
       "Lehtarar                1\n",
       "Name: Location, Length: 71, dtype: int64"
      ]
     },
     "execution_count": 25,
     "metadata": {},
     "output_type": "execute_result"
    }
   ],
   "source": [
    "house[\"Location\"].value_counts()"
   ]
  },
  {
   "cell_type": "code",
   "execution_count": 26,
   "id": "88bd0a19",
   "metadata": {},
   "outputs": [],
   "source": [
    "house.dropna(inplace=True)"
   ]
  },
  {
   "cell_type": "code",
   "execution_count": 27,
   "id": "012f4164",
   "metadata": {},
   "outputs": [
    {
     "data": {
      "text/plain": [
       "Location    0\n",
       "Area        0\n",
       "Bedrooms    0\n",
       "Baths       0\n",
       "Price       0\n",
       "dtype: int64"
      ]
     },
     "execution_count": 27,
     "metadata": {},
     "output_type": "execute_result"
    }
   ],
   "source": [
    "house.isnull().sum() # there is no null values"
   ]
  },
  {
   "cell_type": "code",
   "execution_count": 28,
   "id": "0bf48e29",
   "metadata": {},
   "outputs": [],
   "source": [
    "# check for duplicate values\n",
    "# there is no duplicate values"
   ]
  },
  {
   "cell_type": "code",
   "execution_count": 29,
   "id": "83c827b4",
   "metadata": {},
   "outputs": [
    {
     "data": {
      "text/plain": [
       "{'whiskers': [<matplotlib.lines.Line2D at 0x1a5531f69d0>,\n",
       "  <matplotlib.lines.Line2D at 0x1a553a9a590>],\n",
       " 'caps': [<matplotlib.lines.Line2D at 0x1a553a9b090>,\n",
       "  <matplotlib.lines.Line2D at 0x1a553a9bb90>],\n",
       " 'boxes': [<matplotlib.lines.Line2D at 0x1a553a98e10>],\n",
       " 'medians': [<matplotlib.lines.Line2D at 0x1a553aa4750>],\n",
       " 'fliers': [<matplotlib.lines.Line2D at 0x1a55331a550>],\n",
       " 'means': []}"
      ]
     },
     "execution_count": 29,
     "metadata": {},
     "output_type": "execute_result"
    },
    {
     "data": {
      "image/png": "[encoded data removed]",
      "text/plain": [
       "<Figure size 640x480 with 1 Axes>"
      ]
     },
     "metadata": {},
     "output_type": "display_data"
    }
   ],
   "source": [
    "plt.boxplot(x=house[\"Baths\"])\n"
   ]
  },
  {
   "cell_type": "code",
   "execution_count": 30,
   "id": "98b4002d",
   "metadata": {},
   "outputs": [
    {
     "data": {
      "text/plain": [
       "{'whiskers': [<matplotlib.lines.Line2D at 0x1a553afc690>,\n",
       "  <matplotlib.lines.Line2D at 0x1a553afd0d0>],\n",
       " 'caps': [<matplotlib.lines.Line2D at 0x1a553afdbd0>,\n",
       "  <matplotlib.lines.Line2D at 0x1a553afe710>],\n",
       " 'boxes': [<matplotlib.lines.Line2D at 0x1a553af3a10>],\n",
       " 'medians': [<matplotlib.lines.Line2D at 0x1a553aff310>],\n",
       " 'fliers': [<matplotlib.lines.Line2D at 0x1a553affdd0>],\n",
       " 'means': []}"
      ]
     },
     "execution_count": 30,
     "metadata": {},
     "output_type": "execute_result"
    },
    {
     "data": {
      "image/png": "[encoded data removed]",
      "text/plain": [
       "<Figure size 640x480 with 1 Axes>"
      ]
     },
     "metadata": {},
     "output_type": "display_data"
    }
   ],
   "source": [
    "plt.boxplot(x=house[\"Bedrooms\"])"
   ]
  },
  {
   "cell_type": "code",
   "execution_count": 31,
   "id": "9b438d51",
   "metadata": {},
   "outputs": [
    {
     "data": {
      "text/html": [
       "<div>\n",
       "<style scoped>\n",
       "    .dataframe tbody tr th:only-of-type {\n",
       "        vertical-align: middle;\n",
       "    }\n",
       "\n",
       "    .dataframe tbody tr th {\n",
       "        vertical-align: top;\n",
       "    }\n",
       "\n",
       "    .dataframe thead th {\n",
       "        text-align: right;\n",
       "    }\n",
       "</style>\n",
       "<table border=\"1\" class=\"dataframe\">\n",
       "  <thead>\n",
       "    <tr style=\"text-align: right;\">\n",
       "      <th></th>\n",
       "      <th>Location</th>\n",
       "      <th>Area</th>\n",
       "      <th>Bedrooms</th>\n",
       "      <th>Baths</th>\n",
       "      <th>Price</th>\n",
       "    </tr>\n",
       "  </thead>\n",
       "  <tbody>\n",
       "    <tr>\n",
       "      <th>925</th>\n",
       "      <td>Bahria</td>\n",
       "      <td>10.0</td>\n",
       "      <td>5.0</td>\n",
       "      <td>6.0</td>\n",
       "      <td>0</td>\n",
       "    </tr>\n",
       "    <tr>\n",
       "      <th>3170</th>\n",
       "      <td>Bahria</td>\n",
       "      <td>10.0</td>\n",
       "      <td>5.0</td>\n",
       "      <td>6.0</td>\n",
       "      <td>0</td>\n",
       "    </tr>\n",
       "    <tr>\n",
       "      <th>3247</th>\n",
       "      <td>Gulberg</td>\n",
       "      <td>7.0</td>\n",
       "      <td>4.0</td>\n",
       "      <td>4.0</td>\n",
       "      <td>0</td>\n",
       "    </tr>\n",
       "  </tbody>\n",
       "</table>\n",
       "</div>"
      ],
      "text/plain": [
       "     Location  Area  Bedrooms  Baths  Price\n",
       "925    Bahria  10.0       5.0    6.0      0\n",
       "3170   Bahria  10.0       5.0    6.0      0\n",
       "3247  Gulberg   7.0       4.0    4.0      0"
      ]
     },
     "execution_count": 31,
     "metadata": {},
     "output_type": "execute_result"
    }
   ],
   "source": [
    "house[house[\"Price\"]==0] # want to remove this rows "
   ]
  },
  {
   "cell_type": "code",
   "execution_count": 32,
   "id": "5671e03b",
   "metadata": {},
   "outputs": [],
   "source": [
    "house=house[house[\"Price\"]!=0]"
   ]
  },
  {
   "cell_type": "code",
   "execution_count": 33,
   "id": "add352cc",
   "metadata": {},
   "outputs": [],
   "source": [
    "#change datatype\n",
    "house[\"Baths\"]=house[\"Baths\"].astype(int)"
   ]
  },
  {
   "cell_type": "code",
   "execution_count": 34,
   "id": "d2cea994",
   "metadata": {},
   "outputs": [],
   "source": [
    "house[\"Bedrooms\"]=house[\"Bedrooms\"].astype(int)"
   ]
  },
  {
   "cell_type": "code",
   "execution_count": 35,
   "id": "c47465b9",
   "metadata": {},
   "outputs": [
    {
     "name": "stdout",
     "output_type": "stream",
     "text": [
      "<class 'pandas.core.frame.DataFrame'>\n",
      "Int64Index: 3894 entries, 0 to 3898\n",
      "Data columns (total 5 columns):\n",
      " #   Column    Non-Null Count  Dtype  \n",
      "---  ------    --------------  -----  \n",
      " 0   Location  3894 non-null   object \n",
      " 1   Area      3894 non-null   float64\n",
      " 2   Bedrooms  3894 non-null   int32  \n",
      " 3   Baths     3894 non-null   int32  \n",
      " 4   Price     3894 non-null   int64  \n",
      "dtypes: float64(1), int32(2), int64(1), object(1)\n",
      "memory usage: 152.1+ KB\n"
     ]
    }
   ],
   "source": [
    "house.info()"
   ]
  },
  {
   "cell_type": "code",
   "execution_count": 36,
   "id": "04c723ed",
   "metadata": {},
   "outputs": [
    {
     "data": {
      "text/plain": [
       "(array([  10.,  109.,  397.,  892., 1018.,  941.,  240.,  120.,   57.,\n",
       "         110.]),\n",
       " array([ 1.,  2.,  3.,  4.,  5.,  6.,  7.,  8.,  9., 10., 11.]),\n",
       " <BarContainer object of 10 artists>)"
      ]
     },
     "execution_count": 36,
     "metadata": {},
     "output_type": "execute_result"
    },
    {
     "data": {
      "image/png": "[encoded data removed]",
      "text/plain": [
       "<Figure size 640x480 with 1 Axes>"
      ]
     },
     "metadata": {},
     "output_type": "display_data"
    }
   ],
   "source": [
    "plt.hist(house[\"Bedrooms\"],rwidth=0.7)"
   ]
  },
  {
   "cell_type": "code",
   "execution_count": 37,
   "id": "10cca321",
   "metadata": {},
   "outputs": [
    {
     "data": {
      "text/plain": [
       "(array([1.500e+01, 9.000e+01, 2.920e+02, 5.850e+02, 8.810e+02, 2.012e+03,\n",
       "        5.000e+00, 9.000e+00, 2.000e+00, 3.000e+00]),\n",
       " array([ 1. ,  1.9,  2.8,  3.7,  4.6,  5.5,  6.4,  7.3,  8.2,  9.1, 10. ]),\n",
       " <BarContainer object of 10 artists>)"
      ]
     },
     "execution_count": 37,
     "metadata": {},
     "output_type": "execute_result"
    },
    {
     "data": {
      "image/png": "[encoded data removed]",
      "text/plain": [
       "<Figure size 640x480 with 1 Axes>"
      ]
     },
     "metadata": {},
     "output_type": "display_data"
    }
   ],
   "source": [
    "plt.hist(house[\"Baths\"],rwidth=0.7)"
   ]
  },
  {
   "cell_type": "code",
   "execution_count": 38,
   "id": "8ed8e015",
   "metadata": {},
   "outputs": [],
   "source": [
    "# Our data is cleaned ..Now analyze the data"
   ]
  },
  {
   "cell_type": "code",
   "execution_count": 39,
   "id": "ced8ae8c",
   "metadata": {},
   "outputs": [],
   "source": [
    "sum_loc=house.groupby([\"Location\"],as_index=False)[\"Price\"].sum().sort_values(by=\"Price\",ascending=False)"
   ]
  },
  {
   "cell_type": "code",
   "execution_count": 40,
   "id": "a983d7df",
   "metadata": {},
   "outputs": [],
   "source": [
    "sum_loc_head=sum_loc.head(15)"
   ]
  },
  {
   "cell_type": "code",
   "execution_count": 41,
   "id": "408aea71",
   "metadata": {},
   "outputs": [],
   "source": [
    "max_loc=house.groupby([\"Location\"],as_index=False)[\"Price\"].max().sort_values(by=\"Price\",ascending=False)"
   ]
  },
  {
   "cell_type": "code",
   "execution_count": 42,
   "id": "d0199c25",
   "metadata": {},
   "outputs": [],
   "source": [
    "max_loc_head=max_loc.head(15)"
   ]
  },
  {
   "cell_type": "code",
   "execution_count": 43,
   "id": "274e016a",
   "metadata": {},
   "outputs": [],
   "source": [
    "min_loc=house.groupby([\"Location\"],as_index=False)[\"Price\"].max().sort_values(by=\"Price\",ascending=True)"
   ]
  },
  {
   "cell_type": "code",
   "execution_count": 44,
   "id": "0e171b40",
   "metadata": {},
   "outputs": [],
   "source": [
    "min_loc_head=min_loc.head(15)"
   ]
  },
  {
   "cell_type": "code",
   "execution_count": 45,
   "id": "9cbac902",
   "metadata": {},
   "outputs": [
    {
     "data": {
      "text/plain": [
       "<Axes: xlabel='Location', ylabel='Price'>"
      ]
     },
     "execution_count": 45,
     "metadata": {},
     "output_type": "execute_result"
    },
    {
     "data": {
      "image/png": "[encoded data removed]",
      "text/plain": [
       "<Figure size 1200x600 with 1 Axes>"
      ]
     },
     "metadata": {},
     "output_type": "display_data"
    }
   ],
   "source": [
    "plt.figure(figsize=(12,6))\n",
    "sns.barplot(x='Location',y=\"Price\",data=sum_loc_head)\n"
   ]
  },
  {
   "cell_type": "code",
   "execution_count": 46,
   "id": "3dcbc115",
   "metadata": {},
   "outputs": [
    {
     "data": {
      "text/plain": [
       "<Axes: xlabel='Location', ylabel='Price'>"
      ]
     },
     "execution_count": 46,
     "metadata": {},
     "output_type": "execute_result"
    },
    {
     "data": {
      "image/png": "[encoded data removed]",
      "text/plain": [
       "<Figure size 1100x400 with 1 Axes>"
      ]
     },
     "metadata": {},
     "output_type": "display_data"
    }
   ],
   "source": [
    "plt.figure(figsize=(11,4))\n",
    "sns.barplot(x='Location',y=\"Price\",data=max_loc_head)"
   ]
  },
  {
   "cell_type": "code",
   "execution_count": 47,
   "id": "36ef17ce",
   "metadata": {},
   "outputs": [
    {
     "data": {
      "text/plain": [
       "<Axes: xlabel='Location', ylabel='Price'>"
      ]
     },
     "execution_count": 47,
     "metadata": {},
     "output_type": "execute_result"
    },
    {
     "data": {
      "image/png": "[encoded data removed]",
      "text/plain": [
       "<Figure size 2200x600 with 1 Axes>"
      ]
     },
     "metadata": {},
     "output_type": "display_data"
    }
   ],
   "source": [
    "plt.figure(figsize=(22,6))\n",
    "sns.barplot(x='Location',y=\"Price\",data=min_loc_head)"
   ]
  },
  {
   "cell_type": "code",
   "execution_count": 48,
   "id": "c812b85f",
   "metadata": {},
   "outputs": [
    {
     "data": {
      "text/plain": [
       "Location      Zaraj\n",
       "Area         4500.0\n",
       "Bedrooms         11\n",
       "Baths            10\n",
       "Price       8000000\n",
       "dtype: object"
      ]
     },
     "execution_count": 48,
     "metadata": {},
     "output_type": "execute_result"
    }
   ],
   "source": [
    "house.max()"
   ]
  },
  {
   "cell_type": "code",
   "execution_count": 49,
   "id": "a88d1c89",
   "metadata": {},
   "outputs": [
    {
     "data": {
      "text/plain": [
       "Location    B-17\n",
       "Area         0.9\n",
       "Bedrooms       1\n",
       "Baths          1\n",
       "Price       9000\n",
       "dtype: object"
      ]
     },
     "execution_count": 49,
     "metadata": {},
     "output_type": "execute_result"
    }
   ],
   "source": [
    "house.min()"
   ]
  },
  {
   "cell_type": "code",
   "execution_count": 50,
   "id": "d2914d56",
   "metadata": {},
   "outputs": [
    {
     "data": {
      "text/plain": [
       "495676.2565485362"
      ]
     },
     "execution_count": 50,
     "metadata": {},
     "output_type": "execute_result"
    }
   ],
   "source": [
    "house[\"Price\"].mean()"
   ]
  },
  {
   "cell_type": "code",
   "execution_count": 51,
   "id": "c22a94c1",
   "metadata": {},
   "outputs": [
    {
     "data": {
      "text/plain": [
       "F-7       440\n",
       "DHA       412\n",
       "F-8       374\n",
       "Bahria    296\n",
       "G-13      275\n",
       "F-6       258\n",
       "F-11      189\n",
       "Bani      178\n",
       "E-11      140\n",
       "F-10      138\n",
       "E-7       124\n",
       "I-8        96\n",
       "D-12       92\n",
       "G-10       80\n",
       "G-11       78\n",
       "Name: Location, dtype: int64"
      ]
     },
     "execution_count": 51,
     "metadata": {},
     "output_type": "execute_result"
    }
   ],
   "source": [
    "max_buyer=house[\"Location\"].value_counts()\n",
    "max_buyer.head(15)"
   ]
  },
  {
   "cell_type": "markdown",
   "id": "b54a41cd",
   "metadata": {},
   "source": [
    "# Creating machine learning\n"
   ]
  },
  {
   "cell_type": "code",
   "execution_count": 52,
   "id": "892aa402",
   "metadata": {},
   "outputs": [],
   "source": [
    "house_ml=pd.get_dummies(house)"
   ]
  },
  {
   "cell_type": "code",
   "execution_count": 118,
   "id": "e4f08ea4",
   "metadata": {},
   "outputs": [
    {
     "name": "stdout",
     "output_type": "stream",
     "text": [
      "<class 'pandas.core.frame.DataFrame'>\n",
      "Int64Index: 3894 entries, 0 to 3898\n",
      "Data columns (total 74 columns):\n",
      " #   Column                       Non-Null Count  Dtype  \n",
      "---  ------                       --------------  -----  \n",
      " 0   Area                         3894 non-null   float64\n",
      " 1   Bedrooms                     3894 non-null   int32  \n",
      " 2   Baths                        3894 non-null   int32  \n",
      " 3   Price                        3894 non-null   int64  \n",
      " 4   Location_B-17                3894 non-null   uint8  \n",
      " 5   Location_Bahria              3894 non-null   uint8  \n",
      " 6   Location_Bani                3894 non-null   uint8  \n",
      " 7   Location_Bhara               3894 non-null   uint8  \n",
      " 8   Location_CBR                 3894 non-null   uint8  \n",
      " 9   Location_Capital             3894 non-null   uint8  \n",
      " 10  Location_Chak                3894 non-null   uint8  \n",
      " 11  Location_Chatha              3894 non-null   uint8  \n",
      " 12  Location_Constitution        3894 non-null   uint8  \n",
      " 13  Location_D-12                3894 non-null   uint8  \n",
      " 14  Location_D-17                3894 non-null   uint8  \n",
      " 15  Location_DHA                 3894 non-null   uint8  \n",
      " 16  Location_E-11                3894 non-null   uint8  \n",
      " 17  Location_E-17                3894 non-null   uint8  \n",
      " 18  Location_E-18                3894 non-null   uint8  \n",
      " 19  Location_E-7                 3894 non-null   uint8  \n",
      " 20  Location_Emaar               3894 non-null   uint8  \n",
      " 21  Location_F-10                3894 non-null   uint8  \n",
      " 22  Location_F-11                3894 non-null   uint8  \n",
      " 23  Location_F-15                3894 non-null   uint8  \n",
      " 24  Location_F-17                3894 non-null   uint8  \n",
      " 25  Location_F-6                 3894 non-null   uint8  \n",
      " 26  Location_F-7                 3894 non-null   uint8  \n",
      " 27  Location_F-8                 3894 non-null   uint8  \n",
      " 28  Location_FECHS               3894 non-null   uint8  \n",
      " 29  Location_Faisal              3894 non-null   uint8  \n",
      " 30  Location_G-10                3894 non-null   uint8  \n",
      " 31  Location_G-11                3894 non-null   uint8  \n",
      " 32  Location_G-12                3894 non-null   uint8  \n",
      " 33  Location_G-13                3894 non-null   uint8  \n",
      " 34  Location_G-14                3894 non-null   uint8  \n",
      " 35  Location_G-15                3894 non-null   uint8  \n",
      " 36  Location_G-16                3894 non-null   uint8  \n",
      " 37  Location_G-6                 3894 non-null   uint8  \n",
      " 38  Location_G-7                 3894 non-null   uint8  \n",
      " 39  Location_G-8                 3894 non-null   uint8  \n",
      " 40  Location_G-9                 3894 non-null   uint8  \n",
      " 41  Location_Ghauri              3894 non-null   uint8  \n",
      " 42  Location_Green               3894 non-null   uint8  \n",
      " 43  Location_Gulberg             3894 non-null   uint8  \n",
      " 44  Location_Gulshan-e-Khudadad  3894 non-null   uint8  \n",
      " 45  Location_H-13                3894 non-null   uint8  \n",
      " 46  Location_I-10                3894 non-null   uint8  \n",
      " 47  Location_I-11                3894 non-null   uint8  \n",
      " 48  Location_I-13                3894 non-null   uint8  \n",
      " 49  Location_I-14                3894 non-null   uint8  \n",
      " 50  Location_I-8                 3894 non-null   uint8  \n",
      " 51  Location_I-9                 3894 non-null   uint8  \n",
      " 52  Location_Khanna              3894 non-null   uint8  \n",
      " 53  Location_Korang              3894 non-null   uint8  \n",
      " 54  Location_Kuri                3894 non-null   uint8  \n",
      " 55  Location_Lehtarar            3894 non-null   uint8  \n",
      " 56  Location_Margalla            3894 non-null   uint8  \n",
      " 57  Location_Meherban            3894 non-null   uint8  \n",
      " 58  Location_Mumtaz              3894 non-null   uint8  \n",
      " 59  Location_National            3894 non-null   uint8  \n",
      " 60  Location_Naval               3894 non-null   uint8  \n",
      " 61  Location_PWD                 3894 non-null   uint8  \n",
      " 62  Location_Pakistan            3894 non-null   uint8  \n",
      " 63  Location_Park                3894 non-null   uint8  \n",
      " 64  Location_Police              3894 non-null   uint8  \n",
      " 65  Location_Shah                3894 non-null   uint8  \n",
      " 66  Location_Shehzad             3894 non-null   uint8  \n",
      " 67  Location_Soan                3894 non-null   uint8  \n",
      " 68  Location_Taramrri            3894 non-null   uint8  \n",
      " 69  Location_Tarlai              3894 non-null   uint8  \n",
      " 70  Location_Tarnol              3894 non-null   uint8  \n",
      " 71  Location_Top                 3894 non-null   uint8  \n",
      " 72  Location_University          3894 non-null   uint8  \n",
      " 73  Location_Zaraj               3894 non-null   uint8  \n",
      "dtypes: float64(1), int32(2), int64(1), uint8(70)\n",
      "memory usage: 387.9 KB\n"
     ]
    }
   ],
   "source": [
    "house_ml.info()"
   ]
  },
  {
   "cell_type": "code",
   "execution_count": 119,
   "id": "4663d7ee",
   "metadata": {},
   "outputs": [],
   "source": [
    "house_ml['Location_Top']=house_ml['Location_Top'].astype(int)"
   ]
  },
  {
   "cell_type": "code",
   "execution_count": 130,
   "id": "f6566de4",
   "metadata": {},
   "outputs": [],
   "source": [
    "house_ml=house_ml.astype(int)"
   ]
  },
  {
   "cell_type": "code",
   "execution_count": 131,
   "id": "14a017c5",
   "metadata": {},
   "outputs": [
    {
     "name": "stdout",
     "output_type": "stream",
     "text": [
      "<class 'pandas.core.frame.DataFrame'>\n",
      "Int64Index: 3894 entries, 0 to 3898\n",
      "Data columns (total 74 columns):\n",
      " #   Column                       Non-Null Count  Dtype\n",
      "---  ------                       --------------  -----\n",
      " 0   Area                         3894 non-null   int32\n",
      " 1   Bedrooms                     3894 non-null   int32\n",
      " 2   Baths                        3894 non-null   int32\n",
      " 3   Price                        3894 non-null   int32\n",
      " 4   Location_B-17                3894 non-null   int32\n",
      " 5   Location_Bahria              3894 non-null   int32\n",
      " 6   Location_Bani                3894 non-null   int32\n",
      " 7   Location_Bhara               3894 non-null   int32\n",
      " 8   Location_CBR                 3894 non-null   int32\n",
      " 9   Location_Capital             3894 non-null   int32\n",
      " 10  Location_Chak                3894 non-null   int32\n",
      " 11  Location_Chatha              3894 non-null   int32\n",
      " 12  Location_Constitution        3894 non-null   int32\n",
      " 13  Location_D-12                3894 non-null   int32\n",
      " 14  Location_D-17                3894 non-null   int32\n",
      " 15  Location_DHA                 3894 non-null   int32\n",
      " 16  Location_E-11                3894 non-null   int32\n",
      " 17  Location_E-17                3894 non-null   int32\n",
      " 18  Location_E-18                3894 non-null   int32\n",
      " 19  Location_E-7                 3894 non-null   int32\n",
      " 20  Location_Emaar               3894 non-null   int32\n",
      " 21  Location_F-10                3894 non-null   int32\n",
      " 22  Location_F-11                3894 non-null   int32\n",
      " 23  Location_F-15                3894 non-null   int32\n",
      " 24  Location_F-17                3894 non-null   int32\n",
      " 25  Location_F-6                 3894 non-null   int32\n",
      " 26  Location_F-7                 3894 non-null   int32\n",
      " 27  Location_F-8                 3894 non-null   int32\n",
      " 28  Location_FECHS               3894 non-null   int32\n",
      " 29  Location_Faisal              3894 non-null   int32\n",
      " 30  Location_G-10                3894 non-null   int32\n",
      " 31  Location_G-11                3894 non-null   int32\n",
      " 32  Location_G-12                3894 non-null   int32\n",
      " 33  Location_G-13                3894 non-null   int32\n",
      " 34  Location_G-14                3894 non-null   int32\n",
      " 35  Location_G-15                3894 non-null   int32\n",
      " 36  Location_G-16                3894 non-null   int32\n",
      " 37  Location_G-6                 3894 non-null   int32\n",
      " 38  Location_G-7                 3894 non-null   int32\n",
      " 39  Location_G-8                 3894 non-null   int32\n",
      " 40  Location_G-9                 3894 non-null   int32\n",
      " 41  Location_Ghauri              3894 non-null   int32\n",
      " 42  Location_Green               3894 non-null   int32\n",
      " 43  Location_Gulberg             3894 non-null   int32\n",
      " 44  Location_Gulshan-e-Khudadad  3894 non-null   int32\n",
      " 45  Location_H-13                3894 non-null   int32\n",
      " 46  Location_I-10                3894 non-null   int32\n",
      " 47  Location_I-11                3894 non-null   int32\n",
      " 48  Location_I-13                3894 non-null   int32\n",
      " 49  Location_I-14                3894 non-null   int32\n",
      " 50  Location_I-8                 3894 non-null   int32\n",
      " 51  Location_I-9                 3894 non-null   int32\n",
      " 52  Location_Khanna              3894 non-null   int32\n",
      " 53  Location_Korang              3894 non-null   int32\n",
      " 54  Location_Kuri                3894 non-null   int32\n",
      " 55  Location_Lehtarar            3894 non-null   int32\n",
      " 56  Location_Margalla            3894 non-null   int32\n",
      " 57  Location_Meherban            3894 non-null   int32\n",
      " 58  Location_Mumtaz              3894 non-null   int32\n",
      " 59  Location_National            3894 non-null   int32\n",
      " 60  Location_Naval               3894 non-null   int32\n",
      " 61  Location_PWD                 3894 non-null   int32\n",
      " 62  Location_Pakistan            3894 non-null   int32\n",
      " 63  Location_Park                3894 non-null   int32\n",
      " 64  Location_Police              3894 non-null   int32\n",
      " 65  Location_Shah                3894 non-null   int32\n",
      " 66  Location_Shehzad             3894 non-null   int32\n",
      " 67  Location_Soan                3894 non-null   int32\n",
      " 68  Location_Taramrri            3894 non-null   int32\n",
      " 69  Location_Tarlai              3894 non-null   int32\n",
      " 70  Location_Tarnol              3894 non-null   int32\n",
      " 71  Location_Top                 3894 non-null   int32\n",
      " 72  Location_University          3894 non-null   int32\n",
      " 73  Location_Zaraj               3894 non-null   int32\n",
      "dtypes: int32(74)\n",
      "memory usage: 1.3 MB\n"
     ]
    }
   ],
   "source": [
    "house_ml.info()"
   ]
  },
  {
   "cell_type": "code",
   "execution_count": 132,
   "id": "8c082a2c",
   "metadata": {},
   "outputs": [
    {
     "data": {
      "text/html": [
       "<div>\n",
       "<style scoped>\n",
       "    .dataframe tbody tr th:only-of-type {\n",
       "        vertical-align: middle;\n",
       "    }\n",
       "\n",
       "    .dataframe tbody tr th {\n",
       "        vertical-align: top;\n",
       "    }\n",
       "\n",
       "    .dataframe thead th {\n",
       "        text-align: right;\n",
       "    }\n",
       "</style>\n",
       "<table border=\"1\" class=\"dataframe\">\n",
       "  <thead>\n",
       "    <tr style=\"text-align: right;\">\n",
       "      <th></th>\n",
       "      <th>Area</th>\n",
       "      <th>Bedrooms</th>\n",
       "      <th>Baths</th>\n",
       "      <th>Price</th>\n",
       "      <th>Location_B-17</th>\n",
       "      <th>Location_Bahria</th>\n",
       "      <th>Location_Bani</th>\n",
       "      <th>Location_Bhara</th>\n",
       "      <th>Location_CBR</th>\n",
       "      <th>Location_Capital</th>\n",
       "      <th>...</th>\n",
       "      <th>Location_Police</th>\n",
       "      <th>Location_Shah</th>\n",
       "      <th>Location_Shehzad</th>\n",
       "      <th>Location_Soan</th>\n",
       "      <th>Location_Taramrri</th>\n",
       "      <th>Location_Tarlai</th>\n",
       "      <th>Location_Tarnol</th>\n",
       "      <th>Location_Top</th>\n",
       "      <th>Location_University</th>\n",
       "      <th>Location_Zaraj</th>\n",
       "    </tr>\n",
       "  </thead>\n",
       "  <tbody>\n",
       "    <tr>\n",
       "      <th>0</th>\n",
       "      <td>26</td>\n",
       "      <td>4</td>\n",
       "      <td>5</td>\n",
       "      <td>420000</td>\n",
       "      <td>0</td>\n",
       "      <td>0</td>\n",
       "      <td>0</td>\n",
       "      <td>0</td>\n",
       "      <td>0</td>\n",
       "      <td>0</td>\n",
       "      <td>...</td>\n",
       "      <td>0</td>\n",
       "      <td>0</td>\n",
       "      <td>0</td>\n",
       "      <td>0</td>\n",
       "      <td>0</td>\n",
       "      <td>0</td>\n",
       "      <td>0</td>\n",
       "      <td>0</td>\n",
       "      <td>0</td>\n",
       "      <td>0</td>\n",
       "    </tr>\n",
       "    <tr>\n",
       "      <th>1</th>\n",
       "      <td>11</td>\n",
       "      <td>3</td>\n",
       "      <td>4</td>\n",
       "      <td>100000</td>\n",
       "      <td>0</td>\n",
       "      <td>0</td>\n",
       "      <td>0</td>\n",
       "      <td>0</td>\n",
       "      <td>0</td>\n",
       "      <td>0</td>\n",
       "      <td>...</td>\n",
       "      <td>0</td>\n",
       "      <td>0</td>\n",
       "      <td>0</td>\n",
       "      <td>0</td>\n",
       "      <td>0</td>\n",
       "      <td>0</td>\n",
       "      <td>0</td>\n",
       "      <td>0</td>\n",
       "      <td>0</td>\n",
       "      <td>0</td>\n",
       "    </tr>\n",
       "    <tr>\n",
       "      <th>2</th>\n",
       "      <td>26</td>\n",
       "      <td>4</td>\n",
       "      <td>5</td>\n",
       "      <td>650000</td>\n",
       "      <td>0</td>\n",
       "      <td>0</td>\n",
       "      <td>0</td>\n",
       "      <td>0</td>\n",
       "      <td>0</td>\n",
       "      <td>0</td>\n",
       "      <td>...</td>\n",
       "      <td>0</td>\n",
       "      <td>0</td>\n",
       "      <td>0</td>\n",
       "      <td>0</td>\n",
       "      <td>0</td>\n",
       "      <td>0</td>\n",
       "      <td>0</td>\n",
       "      <td>0</td>\n",
       "      <td>0</td>\n",
       "      <td>0</td>\n",
       "    </tr>\n",
       "    <tr>\n",
       "      <th>3</th>\n",
       "      <td>20</td>\n",
       "      <td>6</td>\n",
       "      <td>6</td>\n",
       "      <td>450000</td>\n",
       "      <td>0</td>\n",
       "      <td>0</td>\n",
       "      <td>0</td>\n",
       "      <td>0</td>\n",
       "      <td>0</td>\n",
       "      <td>0</td>\n",
       "      <td>...</td>\n",
       "      <td>0</td>\n",
       "      <td>0</td>\n",
       "      <td>0</td>\n",
       "      <td>0</td>\n",
       "      <td>0</td>\n",
       "      <td>0</td>\n",
       "      <td>0</td>\n",
       "      <td>0</td>\n",
       "      <td>0</td>\n",
       "      <td>0</td>\n",
       "    </tr>\n",
       "    <tr>\n",
       "      <th>4</th>\n",
       "      <td>10</td>\n",
       "      <td>9</td>\n",
       "      <td>6</td>\n",
       "      <td>120000</td>\n",
       "      <td>0</td>\n",
       "      <td>0</td>\n",
       "      <td>0</td>\n",
       "      <td>0</td>\n",
       "      <td>0</td>\n",
       "      <td>0</td>\n",
       "      <td>...</td>\n",
       "      <td>0</td>\n",
       "      <td>0</td>\n",
       "      <td>0</td>\n",
       "      <td>0</td>\n",
       "      <td>0</td>\n",
       "      <td>0</td>\n",
       "      <td>0</td>\n",
       "      <td>0</td>\n",
       "      <td>0</td>\n",
       "      <td>0</td>\n",
       "    </tr>\n",
       "    <tr>\n",
       "      <th>5</th>\n",
       "      <td>5</td>\n",
       "      <td>4</td>\n",
       "      <td>5</td>\n",
       "      <td>70000</td>\n",
       "      <td>0</td>\n",
       "      <td>1</td>\n",
       "      <td>0</td>\n",
       "      <td>0</td>\n",
       "      <td>0</td>\n",
       "      <td>0</td>\n",
       "      <td>...</td>\n",
       "      <td>0</td>\n",
       "      <td>0</td>\n",
       "      <td>0</td>\n",
       "      <td>0</td>\n",
       "      <td>0</td>\n",
       "      <td>0</td>\n",
       "      <td>0</td>\n",
       "      <td>0</td>\n",
       "      <td>0</td>\n",
       "      <td>0</td>\n",
       "    </tr>\n",
       "    <tr>\n",
       "      <th>6</th>\n",
       "      <td>20</td>\n",
       "      <td>4</td>\n",
       "      <td>5</td>\n",
       "      <td>350000</td>\n",
       "      <td>0</td>\n",
       "      <td>0</td>\n",
       "      <td>0</td>\n",
       "      <td>0</td>\n",
       "      <td>0</td>\n",
       "      <td>0</td>\n",
       "      <td>...</td>\n",
       "      <td>0</td>\n",
       "      <td>0</td>\n",
       "      <td>0</td>\n",
       "      <td>0</td>\n",
       "      <td>0</td>\n",
       "      <td>0</td>\n",
       "      <td>0</td>\n",
       "      <td>0</td>\n",
       "      <td>0</td>\n",
       "      <td>0</td>\n",
       "    </tr>\n",
       "    <tr>\n",
       "      <th>7</th>\n",
       "      <td>40</td>\n",
       "      <td>5</td>\n",
       "      <td>6</td>\n",
       "      <td>2900000</td>\n",
       "      <td>0</td>\n",
       "      <td>0</td>\n",
       "      <td>0</td>\n",
       "      <td>0</td>\n",
       "      <td>0</td>\n",
       "      <td>0</td>\n",
       "      <td>...</td>\n",
       "      <td>0</td>\n",
       "      <td>0</td>\n",
       "      <td>0</td>\n",
       "      <td>0</td>\n",
       "      <td>0</td>\n",
       "      <td>0</td>\n",
       "      <td>0</td>\n",
       "      <td>0</td>\n",
       "      <td>0</td>\n",
       "      <td>0</td>\n",
       "    </tr>\n",
       "    <tr>\n",
       "      <th>8</th>\n",
       "      <td>20</td>\n",
       "      <td>6</td>\n",
       "      <td>6</td>\n",
       "      <td>280000</td>\n",
       "      <td>0</td>\n",
       "      <td>0</td>\n",
       "      <td>0</td>\n",
       "      <td>0</td>\n",
       "      <td>0</td>\n",
       "      <td>0</td>\n",
       "      <td>...</td>\n",
       "      <td>0</td>\n",
       "      <td>0</td>\n",
       "      <td>0</td>\n",
       "      <td>0</td>\n",
       "      <td>0</td>\n",
       "      <td>0</td>\n",
       "      <td>0</td>\n",
       "      <td>0</td>\n",
       "      <td>0</td>\n",
       "      <td>0</td>\n",
       "    </tr>\n",
       "    <tr>\n",
       "      <th>9</th>\n",
       "      <td>10</td>\n",
       "      <td>5</td>\n",
       "      <td>6</td>\n",
       "      <td>275000</td>\n",
       "      <td>0</td>\n",
       "      <td>0</td>\n",
       "      <td>0</td>\n",
       "      <td>0</td>\n",
       "      <td>0</td>\n",
       "      <td>0</td>\n",
       "      <td>...</td>\n",
       "      <td>0</td>\n",
       "      <td>0</td>\n",
       "      <td>0</td>\n",
       "      <td>0</td>\n",
       "      <td>0</td>\n",
       "      <td>0</td>\n",
       "      <td>0</td>\n",
       "      <td>0</td>\n",
       "      <td>0</td>\n",
       "      <td>0</td>\n",
       "    </tr>\n",
       "  </tbody>\n",
       "</table>\n",
       "<p>10 rows × 74 columns</p>\n",
       "</div>"
      ],
      "text/plain": [
       "   Area  Bedrooms  Baths    Price  Location_B-17  Location_Bahria  \\\n",
       "0    26         4      5   420000              0                0   \n",
       "1    11         3      4   100000              0                0   \n",
       "2    26         4      5   650000              0                0   \n",
       "3    20         6      6   450000              0                0   \n",
       "4    10         9      6   120000              0                0   \n",
       "5     5         4      5    70000              0                1   \n",
       "6    20         4      5   350000              0                0   \n",
       "7    40         5      6  2900000              0                0   \n",
       "8    20         6      6   280000              0                0   \n",
       "9    10         5      6   275000              0                0   \n",
       "\n",
       "   Location_Bani  Location_Bhara  Location_CBR  Location_Capital  ...  \\\n",
       "0              0               0             0                 0  ...   \n",
       "1              0               0             0                 0  ...   \n",
       "2              0               0             0                 0  ...   \n",
       "3              0               0             0                 0  ...   \n",
       "4              0               0             0                 0  ...   \n",
       "5              0               0             0                 0  ...   \n",
       "6              0               0             0                 0  ...   \n",
       "7              0               0             0                 0  ...   \n",
       "8              0               0             0                 0  ...   \n",
       "9              0               0             0                 0  ...   \n",
       "\n",
       "   Location_Police  Location_Shah  Location_Shehzad  Location_Soan  \\\n",
       "0                0              0                 0              0   \n",
       "1                0              0                 0              0   \n",
       "2                0              0                 0              0   \n",
       "3                0              0                 0              0   \n",
       "4                0              0                 0              0   \n",
       "5                0              0                 0              0   \n",
       "6                0              0                 0              0   \n",
       "7                0              0                 0              0   \n",
       "8                0              0                 0              0   \n",
       "9                0              0                 0              0   \n",
       "\n",
       "   Location_Taramrri  Location_Tarlai  Location_Tarnol  Location_Top  \\\n",
       "0                  0                0                0             0   \n",
       "1                  0                0                0             0   \n",
       "2                  0                0                0             0   \n",
       "3                  0                0                0             0   \n",
       "4                  0                0                0             0   \n",
       "5                  0                0                0             0   \n",
       "6                  0                0                0             0   \n",
       "7                  0                0                0             0   \n",
       "8                  0                0                0             0   \n",
       "9                  0                0                0             0   \n",
       "\n",
       "   Location_University  Location_Zaraj  \n",
       "0                    0               0  \n",
       "1                    0               0  \n",
       "2                    0               0  \n",
       "3                    0               0  \n",
       "4                    0               0  \n",
       "5                    0               0  \n",
       "6                    0               0  \n",
       "7                    0               0  \n",
       "8                    0               0  \n",
       "9                    0               0  \n",
       "\n",
       "[10 rows x 74 columns]"
      ]
     },
     "execution_count": 132,
     "metadata": {},
     "output_type": "execute_result"
    }
   ],
   "source": [
    "house_ml.head(10)"
   ]
  },
  {
   "cell_type": "code",
   "execution_count": null,
   "id": "e026b301",
   "metadata": {},
   "outputs": [],
   "source": []
  },
  {
   "cell_type": "code",
   "execution_count": null,
   "id": "310eeffe",
   "metadata": {},
   "outputs": [],
   "source": []
  },
  {
   "cell_type": "code",
   "execution_count": null,
   "id": "52c6f476",
   "metadata": {},
   "outputs": [],
   "source": []
  },
  {
   "cell_type": "code",
   "execution_count": null,
   "id": "104a31c2",
   "metadata": {},
   "outputs": [],
   "source": []
  },
  {
   "cell_type": "code",
   "execution_count": 133,
   "id": "704a5cfd",
   "metadata": {},
   "outputs": [],
   "source": [
    "x=house_ml.drop([\"Price\"],axis=1)"
   ]
  },
  {
   "cell_type": "code",
   "execution_count": 134,
   "id": "bd6062c1",
   "metadata": {},
   "outputs": [],
   "source": [
    "y=house_ml[\"Price\"]"
   ]
  },
  {
   "cell_type": "code",
   "execution_count": 135,
   "id": "63824505",
   "metadata": {},
   "outputs": [],
   "source": [
    "from sklearn.model_selection import train_test_split"
   ]
  },
  {
   "cell_type": "code",
   "execution_count": 136,
   "id": "386b9c75",
   "metadata": {},
   "outputs": [],
   "source": [
    "x_train,x_test,y_train,y_test=train_test_split(x,y,test_size=0.2,random_state=51)"
   ]
  },
  {
   "cell_type": "code",
   "execution_count": 137,
   "id": "3344f413",
   "metadata": {},
   "outputs": [],
   "source": [
    "from sklearn.linear_model import LinearRegression\n",
    "lc=LinearRegression()"
   ]
  },
  {
   "cell_type": "code",
   "execution_count": 138,
   "id": "8b7892ff",
   "metadata": {},
   "outputs": [
    {
     "data": {
      "text/html": [
       "<style>#sk-container-id-10 {color: black;}#sk-container-id-10 pre{padding: 0;}#sk-container-id-10 div.sk-toggleable {background-color: white;}#sk-container-id-10 label.sk-toggleable__label {cursor: pointer;display: block;width: 100%;margin-bottom: 0;padding: 0.3em;box-sizing: border-box;text-align: center;}#sk-container-id-10 label.sk-toggleable__label-arrow:before {content: \"▸\";float: left;margin-right: 0.25em;color: #696969;}#sk-container-id-10 label.sk-toggleable__label-arrow:hover:before {color: black;}#sk-container-id-10 div.sk-estimator:hover label.sk-toggleable__label-arrow:before {color: black;}#sk-container-id-10 div.sk-toggleable__content {max-height: 0;max-width: 0;overflow: hidden;text-align: left;background-color: #f0f8ff;}#sk-container-id-10 div.sk-toggleable__content pre {margin: 0.2em;color: black;border-radius: 0.25em;background-color: #f0f8ff;}#sk-container-id-10 input.sk-toggleable__control:checked~div.sk-toggleable__content {max-height: 200px;max-width: 100%;overflow: auto;}#sk-container-id-10 input.sk-toggleable__control:checked~label.sk-toggleable__label-arrow:before {content: \"▾\";}#sk-container-id-10 div.sk-estimator input.sk-toggleable__control:checked~label.sk-toggleable__label {background-color: #d4ebff;}#sk-container-id-10 div.sk-label input.sk-toggleable__control:checked~label.sk-toggleable__label {background-color: #d4ebff;}#sk-container-id-10 input.sk-hidden--visually {border: 0;clip: rect(1px 1px 1px 1px);clip: rect(1px, 1px, 1px, 1px);height: 1px;margin: -1px;overflow: hidden;padding: 0;position: absolute;width: 1px;}#sk-container-id-10 div.sk-estimator {font-family: monospace;background-color: #f0f8ff;border: 1px dotted black;border-radius: 0.25em;box-sizing: border-box;margin-bottom: 0.5em;}#sk-container-id-10 div.sk-estimator:hover {background-color: #d4ebff;}#sk-container-id-10 div.sk-parallel-item::after {content: \"\";width: 100%;border-bottom: 1px solid gray;flex-grow: 1;}#sk-container-id-10 div.sk-label:hover label.sk-toggleable__label {background-color: #d4ebff;}#sk-container-id-10 div.sk-serial::before {content: \"\";position: absolute;border-left: 1px solid gray;box-sizing: border-box;top: 0;bottom: 0;left: 50%;z-index: 0;}#sk-container-id-10 div.sk-serial {display: flex;flex-direction: column;align-items: center;background-color: white;padding-right: 0.2em;padding-left: 0.2em;position: relative;}#sk-container-id-10 div.sk-item {position: relative;z-index: 1;}#sk-container-id-10 div.sk-parallel {display: flex;align-items: stretch;justify-content: center;background-color: white;position: relative;}#sk-container-id-10 div.sk-item::before, #sk-container-id-10 div.sk-parallel-item::before {content: \"\";position: absolute;border-left: 1px solid gray;box-sizing: border-box;top: 0;bottom: 0;left: 50%;z-index: -1;}#sk-container-id-10 div.sk-parallel-item {display: flex;flex-direction: column;z-index: 1;position: relative;background-color: white;}#sk-container-id-10 div.sk-parallel-item:first-child::after {align-self: flex-end;width: 50%;}#sk-container-id-10 div.sk-parallel-item:last-child::after {align-self: flex-start;width: 50%;}#sk-container-id-10 div.sk-parallel-item:only-child::after {width: 0;}#sk-container-id-10 div.sk-dashed-wrapped {border: 1px dashed gray;margin: 0 0.4em 0.5em 0.4em;box-sizing: border-box;padding-bottom: 0.4em;background-color: white;}#sk-container-id-10 div.sk-label label {font-family: monospace;font-weight: bold;display: inline-block;line-height: 1.2em;}#sk-container-id-10 div.sk-label-container {text-align: center;}#sk-container-id-10 div.sk-container {/* jupyter's `normalize.less` sets `[hidden] { display: none; }` but bootstrap.min.css set `[hidden] { display: none !important; }` so we also need the `!important` here to be able to override the default hidden behavior on the sphinx rendered scikit-learn.org. See: https://github.com/scikit-learn/scikit-learn/issues/21755 */display: inline-block !important;position: relative;}#sk-container-id-10 div.sk-text-repr-fallback {display: none;}</style><div id=\"sk-container-id-10\" class=\"sk-top-container\"><div class=\"sk-text-repr-fallback\"><pre>LinearRegression()</pre><b>In a Jupyter environment, please rerun this cell to show the HTML representation or trust the notebook. <br />On GitHub, the HTML representation is unable to render, please try loading this page with nbviewer.org.</b></div><div class=\"sk-container\" hidden><div class=\"sk-item\"><div class=\"sk-estimator sk-toggleable\"><input class=\"sk-toggleable__control sk-hidden--visually\" id=\"sk-estimator-id-10\" type=\"checkbox\" checked><label for=\"sk-estimator-id-10\" class=\"sk-toggleable__label sk-toggleable__label-arrow\">LinearRegression</label><div class=\"sk-toggleable__content\"><pre>LinearRegression()</pre></div></div></div></div></div>"
      ],
      "text/plain": [
       "LinearRegression()"
      ]
     },
     "execution_count": 138,
     "metadata": {},
     "output_type": "execute_result"
    }
   ],
   "source": [
    "lc.fit(x_train,y_train)"
   ]
  },
  {
   "cell_type": "code",
   "execution_count": 139,
   "id": "1d948274",
   "metadata": {},
   "outputs": [
    {
     "data": {
      "text/plain": [
       "0.5922106882136295"
      ]
     },
     "execution_count": 139,
     "metadata": {},
     "output_type": "execute_result"
    }
   ],
   "source": [
    "lc.score(x_test,y_test)"
   ]
  },
  {
   "cell_type": "code",
   "execution_count": 140,
   "id": "eb699d9c",
   "metadata": {},
   "outputs": [],
   "source": [
    "from sklearn.ensemble import  RandomForestRegressor"
   ]
  },
  {
   "cell_type": "code",
   "execution_count": 141,
   "id": "e80ac29d",
   "metadata": {},
   "outputs": [],
   "source": [
    "rr=RandomForestRegressor()"
   ]
  },
  {
   "cell_type": "code",
   "execution_count": 142,
   "id": "e0d3a9ad",
   "metadata": {},
   "outputs": [
    {
     "data": {
      "text/html": [
       "<style>#sk-container-id-11 {color: black;}#sk-container-id-11 pre{padding: 0;}#sk-container-id-11 div.sk-toggleable {background-color: white;}#sk-container-id-11 label.sk-toggleable__label {cursor: pointer;display: block;width: 100%;margin-bottom: 0;padding: 0.3em;box-sizing: border-box;text-align: center;}#sk-container-id-11 label.sk-toggleable__label-arrow:before {content: \"▸\";float: left;margin-right: 0.25em;color: #696969;}#sk-container-id-11 label.sk-toggleable__label-arrow:hover:before {color: black;}#sk-container-id-11 div.sk-estimator:hover label.sk-toggleable__label-arrow:before {color: black;}#sk-container-id-11 div.sk-toggleable__content {max-height: 0;max-width: 0;overflow: hidden;text-align: left;background-color: #f0f8ff;}#sk-container-id-11 div.sk-toggleable__content pre {margin: 0.2em;color: black;border-radius: 0.25em;background-color: #f0f8ff;}#sk-container-id-11 input.sk-toggleable__control:checked~div.sk-toggleable__content {max-height: 200px;max-width: 100%;overflow: auto;}#sk-container-id-11 input.sk-toggleable__control:checked~label.sk-toggleable__label-arrow:before {content: \"▾\";}#sk-container-id-11 div.sk-estimator input.sk-toggleable__control:checked~label.sk-toggleable__label {background-color: #d4ebff;}#sk-container-id-11 div.sk-label input.sk-toggleable__control:checked~label.sk-toggleable__label {background-color: #d4ebff;}#sk-container-id-11 input.sk-hidden--visually {border: 0;clip: rect(1px 1px 1px 1px);clip: rect(1px, 1px, 1px, 1px);height: 1px;margin: -1px;overflow: hidden;padding: 0;position: absolute;width: 1px;}#sk-container-id-11 div.sk-estimator {font-family: monospace;background-color: #f0f8ff;border: 1px dotted black;border-radius: 0.25em;box-sizing: border-box;margin-bottom: 0.5em;}#sk-container-id-11 div.sk-estimator:hover {background-color: #d4ebff;}#sk-container-id-11 div.sk-parallel-item::after {content: \"\";width: 100%;border-bottom: 1px solid gray;flex-grow: 1;}#sk-container-id-11 div.sk-label:hover label.sk-toggleable__label {background-color: #d4ebff;}#sk-container-id-11 div.sk-serial::before {content: \"\";position: absolute;border-left: 1px solid gray;box-sizing: border-box;top: 0;bottom: 0;left: 50%;z-index: 0;}#sk-container-id-11 div.sk-serial {display: flex;flex-direction: column;align-items: center;background-color: white;padding-right: 0.2em;padding-left: 0.2em;position: relative;}#sk-container-id-11 div.sk-item {position: relative;z-index: 1;}#sk-container-id-11 div.sk-parallel {display: flex;align-items: stretch;justify-content: center;background-color: white;position: relative;}#sk-container-id-11 div.sk-item::before, #sk-container-id-11 div.sk-parallel-item::before {content: \"\";position: absolute;border-left: 1px solid gray;box-sizing: border-box;top: 0;bottom: 0;left: 50%;z-index: -1;}#sk-container-id-11 div.sk-parallel-item {display: flex;flex-direction: column;z-index: 1;position: relative;background-color: white;}#sk-container-id-11 div.sk-parallel-item:first-child::after {align-self: flex-end;width: 50%;}#sk-container-id-11 div.sk-parallel-item:last-child::after {align-self: flex-start;width: 50%;}#sk-container-id-11 div.sk-parallel-item:only-child::after {width: 0;}#sk-container-id-11 div.sk-dashed-wrapped {border: 1px dashed gray;margin: 0 0.4em 0.5em 0.4em;box-sizing: border-box;padding-bottom: 0.4em;background-color: white;}#sk-container-id-11 div.sk-label label {font-family: monospace;font-weight: bold;display: inline-block;line-height: 1.2em;}#sk-container-id-11 div.sk-label-container {text-align: center;}#sk-container-id-11 div.sk-container {/* jupyter's `normalize.less` sets `[hidden] { display: none; }` but bootstrap.min.css set `[hidden] { display: none !important; }` so we also need the `!important` here to be able to override the default hidden behavior on the sphinx rendered scikit-learn.org. See: https://github.com/scikit-learn/scikit-learn/issues/21755 */display: inline-block !important;position: relative;}#sk-container-id-11 div.sk-text-repr-fallback {display: none;}</style><div id=\"sk-container-id-11\" class=\"sk-top-container\"><div class=\"sk-text-repr-fallback\"><pre>RandomForestRegressor()</pre><b>In a Jupyter environment, please rerun this cell to show the HTML representation or trust the notebook. <br />On GitHub, the HTML representation is unable to render, please try loading this page with nbviewer.org.</b></div><div class=\"sk-container\" hidden><div class=\"sk-item\"><div class=\"sk-estimator sk-toggleable\"><input class=\"sk-toggleable__control sk-hidden--visually\" id=\"sk-estimator-id-11\" type=\"checkbox\" checked><label for=\"sk-estimator-id-11\" class=\"sk-toggleable__label sk-toggleable__label-arrow\">RandomForestRegressor</label><div class=\"sk-toggleable__content\"><pre>RandomForestRegressor()</pre></div></div></div></div></div>"
      ],
      "text/plain": [
       "RandomForestRegressor()"
      ]
     },
     "execution_count": 142,
     "metadata": {},
     "output_type": "execute_result"
    }
   ],
   "source": [
    "rr.fit(x_train,y_train)"
   ]
  },
  {
   "cell_type": "code",
   "execution_count": 143,
   "id": "5438b096",
   "metadata": {},
   "outputs": [
    {
     "data": {
      "text/plain": [
       "0.815414791081962"
      ]
     },
     "execution_count": 143,
     "metadata": {},
     "output_type": "execute_result"
    }
   ],
   "source": [
    "rr.score(x_test,y_test)"
   ]
  },
  {
   "cell_type": "code",
   "execution_count": 144,
   "id": "8b7f004e",
   "metadata": {},
   "outputs": [],
   "source": [
    "from sklearn.tree import DecisionTreeRegressor"
   ]
  },
  {
   "cell_type": "code",
   "execution_count": 145,
   "id": "be5784e7",
   "metadata": {},
   "outputs": [],
   "source": [
    "dr=DecisionTreeRegressor(criterion='squared_error')"
   ]
  },
  {
   "cell_type": "code",
   "execution_count": 146,
   "id": "f714ef51",
   "metadata": {},
   "outputs": [
    {
     "data": {
      "text/html": [
       "<style>#sk-container-id-12 {color: black;}#sk-container-id-12 pre{padding: 0;}#sk-container-id-12 div.sk-toggleable {background-color: white;}#sk-container-id-12 label.sk-toggleable__label {cursor: pointer;display: block;width: 100%;margin-bottom: 0;padding: 0.3em;box-sizing: border-box;text-align: center;}#sk-container-id-12 label.sk-toggleable__label-arrow:before {content: \"▸\";float: left;margin-right: 0.25em;color: #696969;}#sk-container-id-12 label.sk-toggleable__label-arrow:hover:before {color: black;}#sk-container-id-12 div.sk-estimator:hover label.sk-toggleable__label-arrow:before {color: black;}#sk-container-id-12 div.sk-toggleable__content {max-height: 0;max-width: 0;overflow: hidden;text-align: left;background-color: #f0f8ff;}#sk-container-id-12 div.sk-toggleable__content pre {margin: 0.2em;color: black;border-radius: 0.25em;background-color: #f0f8ff;}#sk-container-id-12 input.sk-toggleable__control:checked~div.sk-toggleable__content {max-height: 200px;max-width: 100%;overflow: auto;}#sk-container-id-12 input.sk-toggleable__control:checked~label.sk-toggleable__label-arrow:before {content: \"▾\";}#sk-container-id-12 div.sk-estimator input.sk-toggleable__control:checked~label.sk-toggleable__label {background-color: #d4ebff;}#sk-container-id-12 div.sk-label input.sk-toggleable__control:checked~label.sk-toggleable__label {background-color: #d4ebff;}#sk-container-id-12 input.sk-hidden--visually {border: 0;clip: rect(1px 1px 1px 1px);clip: rect(1px, 1px, 1px, 1px);height: 1px;margin: -1px;overflow: hidden;padding: 0;position: absolute;width: 1px;}#sk-container-id-12 div.sk-estimator {font-family: monospace;background-color: #f0f8ff;border: 1px dotted black;border-radius: 0.25em;box-sizing: border-box;margin-bottom: 0.5em;}#sk-container-id-12 div.sk-estimator:hover {background-color: #d4ebff;}#sk-container-id-12 div.sk-parallel-item::after {content: \"\";width: 100%;border-bottom: 1px solid gray;flex-grow: 1;}#sk-container-id-12 div.sk-label:hover label.sk-toggleable__label {background-color: #d4ebff;}#sk-container-id-12 div.sk-serial::before {content: \"\";position: absolute;border-left: 1px solid gray;box-sizing: border-box;top: 0;bottom: 0;left: 50%;z-index: 0;}#sk-container-id-12 div.sk-serial {display: flex;flex-direction: column;align-items: center;background-color: white;padding-right: 0.2em;padding-left: 0.2em;position: relative;}#sk-container-id-12 div.sk-item {position: relative;z-index: 1;}#sk-container-id-12 div.sk-parallel {display: flex;align-items: stretch;justify-content: center;background-color: white;position: relative;}#sk-container-id-12 div.sk-item::before, #sk-container-id-12 div.sk-parallel-item::before {content: \"\";position: absolute;border-left: 1px solid gray;box-sizing: border-box;top: 0;bottom: 0;left: 50%;z-index: -1;}#sk-container-id-12 div.sk-parallel-item {display: flex;flex-direction: column;z-index: 1;position: relative;background-color: white;}#sk-container-id-12 div.sk-parallel-item:first-child::after {align-self: flex-end;width: 50%;}#sk-container-id-12 div.sk-parallel-item:last-child::after {align-self: flex-start;width: 50%;}#sk-container-id-12 div.sk-parallel-item:only-child::after {width: 0;}#sk-container-id-12 div.sk-dashed-wrapped {border: 1px dashed gray;margin: 0 0.4em 0.5em 0.4em;box-sizing: border-box;padding-bottom: 0.4em;background-color: white;}#sk-container-id-12 div.sk-label label {font-family: monospace;font-weight: bold;display: inline-block;line-height: 1.2em;}#sk-container-id-12 div.sk-label-container {text-align: center;}#sk-container-id-12 div.sk-container {/* jupyter's `normalize.less` sets `[hidden] { display: none; }` but bootstrap.min.css set `[hidden] { display: none !important; }` so we also need the `!important` here to be able to override the default hidden behavior on the sphinx rendered scikit-learn.org. See: https://github.com/scikit-learn/scikit-learn/issues/21755 */display: inline-block !important;position: relative;}#sk-container-id-12 div.sk-text-repr-fallback {display: none;}</style><div id=\"sk-container-id-12\" class=\"sk-top-container\"><div class=\"sk-text-repr-fallback\"><pre>DecisionTreeRegressor()</pre><b>In a Jupyter environment, please rerun this cell to show the HTML representation or trust the notebook. <br />On GitHub, the HTML representation is unable to render, please try loading this page with nbviewer.org.</b></div><div class=\"sk-container\" hidden><div class=\"sk-item\"><div class=\"sk-estimator sk-toggleable\"><input class=\"sk-toggleable__control sk-hidden--visually\" id=\"sk-estimator-id-12\" type=\"checkbox\" checked><label for=\"sk-estimator-id-12\" class=\"sk-toggleable__label sk-toggleable__label-arrow\">DecisionTreeRegressor</label><div class=\"sk-toggleable__content\"><pre>DecisionTreeRegressor()</pre></div></div></div></div></div>"
      ],
      "text/plain": [
       "DecisionTreeRegressor()"
      ]
     },
     "execution_count": 146,
     "metadata": {},
     "output_type": "execute_result"
    }
   ],
   "source": [
    "dr.fit(x_train,y_train)"
   ]
  },
  {
   "cell_type": "code",
   "execution_count": 147,
   "id": "560e5e58",
   "metadata": {},
   "outputs": [
    {
     "data": {
      "text/plain": [
       "0.7174114943177625"
      ]
     },
     "execution_count": 147,
     "metadata": {},
     "output_type": "execute_result"
    }
   ],
   "source": [
    "dr.score(x_test,y_test)"
   ]
  },
  {
   "cell_type": "code",
   "execution_count": 148,
   "id": "eb3d5563",
   "metadata": {},
   "outputs": [],
   "source": [
    "from sklearn.neighbors import KNeighborsRegressor"
   ]
  },
  {
   "cell_type": "code",
   "execution_count": 149,
   "id": "59efe5bd",
   "metadata": {},
   "outputs": [],
   "source": [
    "knr=KNeighborsRegressor(n_neighbors=5)"
   ]
  },
  {
   "cell_type": "code",
   "execution_count": 150,
   "id": "3ab3689b",
   "metadata": {},
   "outputs": [
    {
     "data": {
      "text/html": [
       "<style>#sk-container-id-13 {color: black;}#sk-container-id-13 pre{padding: 0;}#sk-container-id-13 div.sk-toggleable {background-color: white;}#sk-container-id-13 label.sk-toggleable__label {cursor: pointer;display: block;width: 100%;margin-bottom: 0;padding: 0.3em;box-sizing: border-box;text-align: center;}#sk-container-id-13 label.sk-toggleable__label-arrow:before {content: \"▸\";float: left;margin-right: 0.25em;color: #696969;}#sk-container-id-13 label.sk-toggleable__label-arrow:hover:before {color: black;}#sk-container-id-13 div.sk-estimator:hover label.sk-toggleable__label-arrow:before {color: black;}#sk-container-id-13 div.sk-toggleable__content {max-height: 0;max-width: 0;overflow: hidden;text-align: left;background-color: #f0f8ff;}#sk-container-id-13 div.sk-toggleable__content pre {margin: 0.2em;color: black;border-radius: 0.25em;background-color: #f0f8ff;}#sk-container-id-13 input.sk-toggleable__control:checked~div.sk-toggleable__content {max-height: 200px;max-width: 100%;overflow: auto;}#sk-container-id-13 input.sk-toggleable__control:checked~label.sk-toggleable__label-arrow:before {content: \"▾\";}#sk-container-id-13 div.sk-estimator input.sk-toggleable__control:checked~label.sk-toggleable__label {background-color: #d4ebff;}#sk-container-id-13 div.sk-label input.sk-toggleable__control:checked~label.sk-toggleable__label {background-color: #d4ebff;}#sk-container-id-13 input.sk-hidden--visually {border: 0;clip: rect(1px 1px 1px 1px);clip: rect(1px, 1px, 1px, 1px);height: 1px;margin: -1px;overflow: hidden;padding: 0;position: absolute;width: 1px;}#sk-container-id-13 div.sk-estimator {font-family: monospace;background-color: #f0f8ff;border: 1px dotted black;border-radius: 0.25em;box-sizing: border-box;margin-bottom: 0.5em;}#sk-container-id-13 div.sk-estimator:hover {background-color: #d4ebff;}#sk-container-id-13 div.sk-parallel-item::after {content: \"\";width: 100%;border-bottom: 1px solid gray;flex-grow: 1;}#sk-container-id-13 div.sk-label:hover label.sk-toggleable__label {background-color: #d4ebff;}#sk-container-id-13 div.sk-serial::before {content: \"\";position: absolute;border-left: 1px solid gray;box-sizing: border-box;top: 0;bottom: 0;left: 50%;z-index: 0;}#sk-container-id-13 div.sk-serial {display: flex;flex-direction: column;align-items: center;background-color: white;padding-right: 0.2em;padding-left: 0.2em;position: relative;}#sk-container-id-13 div.sk-item {position: relative;z-index: 1;}#sk-container-id-13 div.sk-parallel {display: flex;align-items: stretch;justify-content: center;background-color: white;position: relative;}#sk-container-id-13 div.sk-item::before, #sk-container-id-13 div.sk-parallel-item::before {content: \"\";position: absolute;border-left: 1px solid gray;box-sizing: border-box;top: 0;bottom: 0;left: 50%;z-index: -1;}#sk-container-id-13 div.sk-parallel-item {display: flex;flex-direction: column;z-index: 1;position: relative;background-color: white;}#sk-container-id-13 div.sk-parallel-item:first-child::after {align-self: flex-end;width: 50%;}#sk-container-id-13 div.sk-parallel-item:last-child::after {align-self: flex-start;width: 50%;}#sk-container-id-13 div.sk-parallel-item:only-child::after {width: 0;}#sk-container-id-13 div.sk-dashed-wrapped {border: 1px dashed gray;margin: 0 0.4em 0.5em 0.4em;box-sizing: border-box;padding-bottom: 0.4em;background-color: white;}#sk-container-id-13 div.sk-label label {font-family: monospace;font-weight: bold;display: inline-block;line-height: 1.2em;}#sk-container-id-13 div.sk-label-container {text-align: center;}#sk-container-id-13 div.sk-container {/* jupyter's `normalize.less` sets `[hidden] { display: none; }` but bootstrap.min.css set `[hidden] { display: none !important; }` so we also need the `!important` here to be able to override the default hidden behavior on the sphinx rendered scikit-learn.org. See: https://github.com/scikit-learn/scikit-learn/issues/21755 */display: inline-block !important;position: relative;}#sk-container-id-13 div.sk-text-repr-fallback {display: none;}</style><div id=\"sk-container-id-13\" class=\"sk-top-container\"><div class=\"sk-text-repr-fallback\"><pre>KNeighborsRegressor()</pre><b>In a Jupyter environment, please rerun this cell to show the HTML representation or trust the notebook. <br />On GitHub, the HTML representation is unable to render, please try loading this page with nbviewer.org.</b></div><div class=\"sk-container\" hidden><div class=\"sk-item\"><div class=\"sk-estimator sk-toggleable\"><input class=\"sk-toggleable__control sk-hidden--visually\" id=\"sk-estimator-id-13\" type=\"checkbox\" checked><label for=\"sk-estimator-id-13\" class=\"sk-toggleable__label sk-toggleable__label-arrow\">KNeighborsRegressor</label><div class=\"sk-toggleable__content\"><pre>KNeighborsRegressor()</pre></div></div></div></div></div>"
      ],
      "text/plain": [
       "KNeighborsRegressor()"
      ]
     },
     "execution_count": 150,
     "metadata": {},
     "output_type": "execute_result"
    }
   ],
   "source": [
    "knr.fit(x_train,y_train)"
   ]
  },
  {
   "cell_type": "code",
   "execution_count": 151,
   "id": "452d27c2",
   "metadata": {},
   "outputs": [
    {
     "data": {
      "text/plain": [
       "0.7488537147579742"
      ]
     },
     "execution_count": 151,
     "metadata": {},
     "output_type": "execute_result"
    }
   ],
   "source": [
    "knr.score(x_test,y_test)"
   ]
  },
  {
   "cell_type": "code",
   "execution_count": 152,
   "id": "18911524",
   "metadata": {},
   "outputs": [],
   "source": [
    "from sklearn.preprocessing import StandardScaler"
   ]
  },
  {
   "cell_type": "code",
   "execution_count": 153,
   "id": "497f7b8c",
   "metadata": {},
   "outputs": [],
   "source": [
    "sc=StandardScaler()"
   ]
  },
  {
   "cell_type": "code",
   "execution_count": 154,
   "id": "6b7159a7",
   "metadata": {},
   "outputs": [
    {
     "data": {
      "text/html": [
       "<style>#sk-container-id-14 {color: black;}#sk-container-id-14 pre{padding: 0;}#sk-container-id-14 div.sk-toggleable {background-color: white;}#sk-container-id-14 label.sk-toggleable__label {cursor: pointer;display: block;width: 100%;margin-bottom: 0;padding: 0.3em;box-sizing: border-box;text-align: center;}#sk-container-id-14 label.sk-toggleable__label-arrow:before {content: \"▸\";float: left;margin-right: 0.25em;color: #696969;}#sk-container-id-14 label.sk-toggleable__label-arrow:hover:before {color: black;}#sk-container-id-14 div.sk-estimator:hover label.sk-toggleable__label-arrow:before {color: black;}#sk-container-id-14 div.sk-toggleable__content {max-height: 0;max-width: 0;overflow: hidden;text-align: left;background-color: #f0f8ff;}#sk-container-id-14 div.sk-toggleable__content pre {margin: 0.2em;color: black;border-radius: 0.25em;background-color: #f0f8ff;}#sk-container-id-14 input.sk-toggleable__control:checked~div.sk-toggleable__content {max-height: 200px;max-width: 100%;overflow: auto;}#sk-container-id-14 input.sk-toggleable__control:checked~label.sk-toggleable__label-arrow:before {content: \"▾\";}#sk-container-id-14 div.sk-estimator input.sk-toggleable__control:checked~label.sk-toggleable__label {background-color: #d4ebff;}#sk-container-id-14 div.sk-label input.sk-toggleable__control:checked~label.sk-toggleable__label {background-color: #d4ebff;}#sk-container-id-14 input.sk-hidden--visually {border: 0;clip: rect(1px 1px 1px 1px);clip: rect(1px, 1px, 1px, 1px);height: 1px;margin: -1px;overflow: hidden;padding: 0;position: absolute;width: 1px;}#sk-container-id-14 div.sk-estimator {font-family: monospace;background-color: #f0f8ff;border: 1px dotted black;border-radius: 0.25em;box-sizing: border-box;margin-bottom: 0.5em;}#sk-container-id-14 div.sk-estimator:hover {background-color: #d4ebff;}#sk-container-id-14 div.sk-parallel-item::after {content: \"\";width: 100%;border-bottom: 1px solid gray;flex-grow: 1;}#sk-container-id-14 div.sk-label:hover label.sk-toggleable__label {background-color: #d4ebff;}#sk-container-id-14 div.sk-serial::before {content: \"\";position: absolute;border-left: 1px solid gray;box-sizing: border-box;top: 0;bottom: 0;left: 50%;z-index: 0;}#sk-container-id-14 div.sk-serial {display: flex;flex-direction: column;align-items: center;background-color: white;padding-right: 0.2em;padding-left: 0.2em;position: relative;}#sk-container-id-14 div.sk-item {position: relative;z-index: 1;}#sk-container-id-14 div.sk-parallel {display: flex;align-items: stretch;justify-content: center;background-color: white;position: relative;}#sk-container-id-14 div.sk-item::before, #sk-container-id-14 div.sk-parallel-item::before {content: \"\";position: absolute;border-left: 1px solid gray;box-sizing: border-box;top: 0;bottom: 0;left: 50%;z-index: -1;}#sk-container-id-14 div.sk-parallel-item {display: flex;flex-direction: column;z-index: 1;position: relative;background-color: white;}#sk-container-id-14 div.sk-parallel-item:first-child::after {align-self: flex-end;width: 50%;}#sk-container-id-14 div.sk-parallel-item:last-child::after {align-self: flex-start;width: 50%;}#sk-container-id-14 div.sk-parallel-item:only-child::after {width: 0;}#sk-container-id-14 div.sk-dashed-wrapped {border: 1px dashed gray;margin: 0 0.4em 0.5em 0.4em;box-sizing: border-box;padding-bottom: 0.4em;background-color: white;}#sk-container-id-14 div.sk-label label {font-family: monospace;font-weight: bold;display: inline-block;line-height: 1.2em;}#sk-container-id-14 div.sk-label-container {text-align: center;}#sk-container-id-14 div.sk-container {/* jupyter's `normalize.less` sets `[hidden] { display: none; }` but bootstrap.min.css set `[hidden] { display: none !important; }` so we also need the `!important` here to be able to override the default hidden behavior on the sphinx rendered scikit-learn.org. See: https://github.com/scikit-learn/scikit-learn/issues/21755 */display: inline-block !important;position: relative;}#sk-container-id-14 div.sk-text-repr-fallback {display: none;}</style><div id=\"sk-container-id-14\" class=\"sk-top-container\"><div class=\"sk-text-repr-fallback\"><pre>StandardScaler()</pre><b>In a Jupyter environment, please rerun this cell to show the HTML representation or trust the notebook. <br />On GitHub, the HTML representation is unable to render, please try loading this page with nbviewer.org.</b></div><div class=\"sk-container\" hidden><div class=\"sk-item\"><div class=\"sk-estimator sk-toggleable\"><input class=\"sk-toggleable__control sk-hidden--visually\" id=\"sk-estimator-id-14\" type=\"checkbox\" checked><label for=\"sk-estimator-id-14\" class=\"sk-toggleable__label sk-toggleable__label-arrow\">StandardScaler</label><div class=\"sk-toggleable__content\"><pre>StandardScaler()</pre></div></div></div></div></div>"
      ],
      "text/plain": [
       "StandardScaler()"
      ]
     },
     "execution_count": 154,
     "metadata": {},
     "output_type": "execute_result"
    }
   ],
   "source": [
    "sc.fit(x_train)"
   ]
  },
  {
   "cell_type": "code",
   "execution_count": 155,
   "id": "4ee65340",
   "metadata": {},
   "outputs": [],
   "source": [
    "train_sc=sc.transform(x_train)"
   ]
  },
  {
   "cell_type": "code",
   "execution_count": 156,
   "id": "65d5110f",
   "metadata": {},
   "outputs": [],
   "source": [
    "test_sc=sc.transform(x_test)"
   ]
  },
  {
   "cell_type": "code",
   "execution_count": 157,
   "id": "06923dcc",
   "metadata": {},
   "outputs": [],
   "source": [
    "train_sc=pd.DataFrame(train_sc)"
   ]
  },
  {
   "cell_type": "code",
   "execution_count": 158,
   "id": "115bb222",
   "metadata": {},
   "outputs": [
    {
     "data": {
      "text/html": [
       "<div>\n",
       "<style scoped>\n",
       "    .dataframe tbody tr th:only-of-type {\n",
       "        vertical-align: middle;\n",
       "    }\n",
       "\n",
       "    .dataframe tbody tr th {\n",
       "        vertical-align: top;\n",
       "    }\n",
       "\n",
       "    .dataframe thead th {\n",
       "        text-align: right;\n",
       "    }\n",
       "</style>\n",
       "<table border=\"1\" class=\"dataframe\">\n",
       "  <thead>\n",
       "    <tr style=\"text-align: right;\">\n",
       "      <th></th>\n",
       "      <th>0</th>\n",
       "      <th>1</th>\n",
       "      <th>2</th>\n",
       "      <th>3</th>\n",
       "      <th>4</th>\n",
       "      <th>5</th>\n",
       "      <th>6</th>\n",
       "      <th>7</th>\n",
       "      <th>8</th>\n",
       "      <th>9</th>\n",
       "      <th>...</th>\n",
       "      <th>63</th>\n",
       "      <th>64</th>\n",
       "      <th>65</th>\n",
       "      <th>66</th>\n",
       "      <th>67</th>\n",
       "      <th>68</th>\n",
       "      <th>69</th>\n",
       "      <th>70</th>\n",
       "      <th>71</th>\n",
       "      <th>72</th>\n",
       "    </tr>\n",
       "  </thead>\n",
       "  <tbody>\n",
       "    <tr>\n",
       "      <th>0</th>\n",
       "      <td>-0.174355</td>\n",
       "      <td>1.728628</td>\n",
       "      <td>0.754577</td>\n",
       "      <td>-0.119698</td>\n",
       "      <td>-0.288273</td>\n",
       "      <td>-0.228056</td>\n",
       "      <td>-0.01792</td>\n",
       "      <td>-0.035857</td>\n",
       "      <td>-0.01792</td>\n",
       "      <td>-0.035857</td>\n",
       "      <td>...</td>\n",
       "      <td>-0.01792</td>\n",
       "      <td>-0.01792</td>\n",
       "      <td>-0.035857</td>\n",
       "      <td>-0.096940</td>\n",
       "      <td>-0.01792</td>\n",
       "      <td>-0.01792</td>\n",
       "      <td>-0.01792</td>\n",
       "      <td>-0.091744</td>\n",
       "      <td>-0.025347</td>\n",
       "      <td>-0.05383</td>\n",
       "    </tr>\n",
       "    <tr>\n",
       "      <th>1</th>\n",
       "      <td>0.151605</td>\n",
       "      <td>1.122246</td>\n",
       "      <td>0.754577</td>\n",
       "      <td>-0.119698</td>\n",
       "      <td>-0.288273</td>\n",
       "      <td>-0.228056</td>\n",
       "      <td>-0.01792</td>\n",
       "      <td>-0.035857</td>\n",
       "      <td>-0.01792</td>\n",
       "      <td>-0.035857</td>\n",
       "      <td>...</td>\n",
       "      <td>-0.01792</td>\n",
       "      <td>-0.01792</td>\n",
       "      <td>-0.035857</td>\n",
       "      <td>-0.096940</td>\n",
       "      <td>-0.01792</td>\n",
       "      <td>-0.01792</td>\n",
       "      <td>-0.01792</td>\n",
       "      <td>-0.091744</td>\n",
       "      <td>-0.025347</td>\n",
       "      <td>-0.05383</td>\n",
       "    </tr>\n",
       "    <tr>\n",
       "      <th>2</th>\n",
       "      <td>0.106645</td>\n",
       "      <td>1.122246</td>\n",
       "      <td>0.754577</td>\n",
       "      <td>-0.119698</td>\n",
       "      <td>-0.288273</td>\n",
       "      <td>-0.228056</td>\n",
       "      <td>-0.01792</td>\n",
       "      <td>-0.035857</td>\n",
       "      <td>-0.01792</td>\n",
       "      <td>-0.035857</td>\n",
       "      <td>...</td>\n",
       "      <td>-0.01792</td>\n",
       "      <td>-0.01792</td>\n",
       "      <td>-0.035857</td>\n",
       "      <td>-0.096940</td>\n",
       "      <td>-0.01792</td>\n",
       "      <td>-0.01792</td>\n",
       "      <td>-0.01792</td>\n",
       "      <td>-0.091744</td>\n",
       "      <td>-0.025347</td>\n",
       "      <td>-0.05383</td>\n",
       "    </tr>\n",
       "    <tr>\n",
       "      <th>3</th>\n",
       "      <td>-0.140635</td>\n",
       "      <td>0.515863</td>\n",
       "      <td>0.754577</td>\n",
       "      <td>-0.119698</td>\n",
       "      <td>-0.288273</td>\n",
       "      <td>-0.228056</td>\n",
       "      <td>-0.01792</td>\n",
       "      <td>-0.035857</td>\n",
       "      <td>-0.01792</td>\n",
       "      <td>-0.035857</td>\n",
       "      <td>...</td>\n",
       "      <td>-0.01792</td>\n",
       "      <td>-0.01792</td>\n",
       "      <td>-0.035857</td>\n",
       "      <td>-0.096940</td>\n",
       "      <td>-0.01792</td>\n",
       "      <td>-0.01792</td>\n",
       "      <td>-0.01792</td>\n",
       "      <td>-0.091744</td>\n",
       "      <td>-0.025347</td>\n",
       "      <td>-0.05383</td>\n",
       "    </tr>\n",
       "    <tr>\n",
       "      <th>4</th>\n",
       "      <td>-0.151875</td>\n",
       "      <td>-1.303284</td>\n",
       "      <td>-1.913423</td>\n",
       "      <td>-0.119698</td>\n",
       "      <td>-0.288273</td>\n",
       "      <td>-0.228056</td>\n",
       "      <td>-0.01792</td>\n",
       "      <td>-0.035857</td>\n",
       "      <td>-0.01792</td>\n",
       "      <td>-0.035857</td>\n",
       "      <td>...</td>\n",
       "      <td>-0.01792</td>\n",
       "      <td>-0.01792</td>\n",
       "      <td>-0.035857</td>\n",
       "      <td>-0.096940</td>\n",
       "      <td>-0.01792</td>\n",
       "      <td>-0.01792</td>\n",
       "      <td>-0.01792</td>\n",
       "      <td>-0.091744</td>\n",
       "      <td>-0.025347</td>\n",
       "      <td>-0.05383</td>\n",
       "    </tr>\n",
       "    <tr>\n",
       "      <th>...</th>\n",
       "      <td>...</td>\n",
       "      <td>...</td>\n",
       "      <td>...</td>\n",
       "      <td>...</td>\n",
       "      <td>...</td>\n",
       "      <td>...</td>\n",
       "      <td>...</td>\n",
       "      <td>...</td>\n",
       "      <td>...</td>\n",
       "      <td>...</td>\n",
       "      <td>...</td>\n",
       "      <td>...</td>\n",
       "      <td>...</td>\n",
       "      <td>...</td>\n",
       "      <td>...</td>\n",
       "      <td>...</td>\n",
       "      <td>...</td>\n",
       "      <td>...</td>\n",
       "      <td>...</td>\n",
       "      <td>...</td>\n",
       "      <td>...</td>\n",
       "    </tr>\n",
       "    <tr>\n",
       "      <th>3110</th>\n",
       "      <td>-0.028235</td>\n",
       "      <td>3.547776</td>\n",
       "      <td>0.754577</td>\n",
       "      <td>-0.119698</td>\n",
       "      <td>-0.288273</td>\n",
       "      <td>-0.228056</td>\n",
       "      <td>-0.01792</td>\n",
       "      <td>-0.035857</td>\n",
       "      <td>-0.01792</td>\n",
       "      <td>-0.035857</td>\n",
       "      <td>...</td>\n",
       "      <td>-0.01792</td>\n",
       "      <td>-0.01792</td>\n",
       "      <td>-0.035857</td>\n",
       "      <td>-0.096940</td>\n",
       "      <td>-0.01792</td>\n",
       "      <td>-0.01792</td>\n",
       "      <td>-0.01792</td>\n",
       "      <td>-0.091744</td>\n",
       "      <td>-0.025347</td>\n",
       "      <td>-0.05383</td>\n",
       "    </tr>\n",
       "    <tr>\n",
       "      <th>3111</th>\n",
       "      <td>-0.028235</td>\n",
       "      <td>-0.090519</td>\n",
       "      <td>0.754577</td>\n",
       "      <td>-0.119698</td>\n",
       "      <td>-0.288273</td>\n",
       "      <td>-0.228056</td>\n",
       "      <td>-0.01792</td>\n",
       "      <td>-0.035857</td>\n",
       "      <td>-0.01792</td>\n",
       "      <td>-0.035857</td>\n",
       "      <td>...</td>\n",
       "      <td>-0.01792</td>\n",
       "      <td>-0.01792</td>\n",
       "      <td>-0.035857</td>\n",
       "      <td>-0.096940</td>\n",
       "      <td>-0.01792</td>\n",
       "      <td>-0.01792</td>\n",
       "      <td>-0.01792</td>\n",
       "      <td>-0.091744</td>\n",
       "      <td>-0.025347</td>\n",
       "      <td>-0.05383</td>\n",
       "    </tr>\n",
       "    <tr>\n",
       "      <th>3112</th>\n",
       "      <td>-0.028235</td>\n",
       "      <td>0.515863</td>\n",
       "      <td>0.754577</td>\n",
       "      <td>-0.119698</td>\n",
       "      <td>-0.288273</td>\n",
       "      <td>-0.228056</td>\n",
       "      <td>-0.01792</td>\n",
       "      <td>-0.035857</td>\n",
       "      <td>-0.01792</td>\n",
       "      <td>-0.035857</td>\n",
       "      <td>...</td>\n",
       "      <td>-0.01792</td>\n",
       "      <td>-0.01792</td>\n",
       "      <td>-0.035857</td>\n",
       "      <td>-0.096940</td>\n",
       "      <td>-0.01792</td>\n",
       "      <td>-0.01792</td>\n",
       "      <td>-0.01792</td>\n",
       "      <td>-0.091744</td>\n",
       "      <td>-0.025347</td>\n",
       "      <td>-0.05383</td>\n",
       "    </tr>\n",
       "    <tr>\n",
       "      <th>3113</th>\n",
       "      <td>-0.028235</td>\n",
       "      <td>1.728628</td>\n",
       "      <td>0.754577</td>\n",
       "      <td>-0.119698</td>\n",
       "      <td>-0.288273</td>\n",
       "      <td>-0.228056</td>\n",
       "      <td>-0.01792</td>\n",
       "      <td>-0.035857</td>\n",
       "      <td>-0.01792</td>\n",
       "      <td>-0.035857</td>\n",
       "      <td>...</td>\n",
       "      <td>-0.01792</td>\n",
       "      <td>-0.01792</td>\n",
       "      <td>-0.035857</td>\n",
       "      <td>-0.096940</td>\n",
       "      <td>-0.01792</td>\n",
       "      <td>-0.01792</td>\n",
       "      <td>-0.01792</td>\n",
       "      <td>-0.091744</td>\n",
       "      <td>-0.025347</td>\n",
       "      <td>-0.05383</td>\n",
       "    </tr>\n",
       "    <tr>\n",
       "      <th>3114</th>\n",
       "      <td>-0.028235</td>\n",
       "      <td>-0.696902</td>\n",
       "      <td>-1.024090</td>\n",
       "      <td>-0.119698</td>\n",
       "      <td>-0.288273</td>\n",
       "      <td>-0.228056</td>\n",
       "      <td>-0.01792</td>\n",
       "      <td>-0.035857</td>\n",
       "      <td>-0.01792</td>\n",
       "      <td>-0.035857</td>\n",
       "      <td>...</td>\n",
       "      <td>-0.01792</td>\n",
       "      <td>-0.01792</td>\n",
       "      <td>-0.035857</td>\n",
       "      <td>10.315706</td>\n",
       "      <td>-0.01792</td>\n",
       "      <td>-0.01792</td>\n",
       "      <td>-0.01792</td>\n",
       "      <td>-0.091744</td>\n",
       "      <td>-0.025347</td>\n",
       "      <td>-0.05383</td>\n",
       "    </tr>\n",
       "  </tbody>\n",
       "</table>\n",
       "<p>3115 rows × 73 columns</p>\n",
       "</div>"
      ],
      "text/plain": [
       "            0         1         2         3         4         5        6   \\\n",
       "0    -0.174355  1.728628  0.754577 -0.119698 -0.288273 -0.228056 -0.01792   \n",
       "1     0.151605  1.122246  0.754577 -0.119698 -0.288273 -0.228056 -0.01792   \n",
       "2     0.106645  1.122246  0.754577 -0.119698 -0.288273 -0.228056 -0.01792   \n",
       "3    -0.140635  0.515863  0.754577 -0.119698 -0.288273 -0.228056 -0.01792   \n",
       "4    -0.151875 -1.303284 -1.913423 -0.119698 -0.288273 -0.228056 -0.01792   \n",
       "...        ...       ...       ...       ...       ...       ...      ...   \n",
       "3110 -0.028235  3.547776  0.754577 -0.119698 -0.288273 -0.228056 -0.01792   \n",
       "3111 -0.028235 -0.090519  0.754577 -0.119698 -0.288273 -0.228056 -0.01792   \n",
       "3112 -0.028235  0.515863  0.754577 -0.119698 -0.288273 -0.228056 -0.01792   \n",
       "3113 -0.028235  1.728628  0.754577 -0.119698 -0.288273 -0.228056 -0.01792   \n",
       "3114 -0.028235 -0.696902 -1.024090 -0.119698 -0.288273 -0.228056 -0.01792   \n",
       "\n",
       "            7        8         9   ...       63       64        65         66  \\\n",
       "0    -0.035857 -0.01792 -0.035857  ... -0.01792 -0.01792 -0.035857  -0.096940   \n",
       "1    -0.035857 -0.01792 -0.035857  ... -0.01792 -0.01792 -0.035857  -0.096940   \n",
       "2    -0.035857 -0.01792 -0.035857  ... -0.01792 -0.01792 -0.035857  -0.096940   \n",
       "3    -0.035857 -0.01792 -0.035857  ... -0.01792 -0.01792 -0.035857  -0.096940   \n",
       "4    -0.035857 -0.01792 -0.035857  ... -0.01792 -0.01792 -0.035857  -0.096940   \n",
       "...        ...      ...       ...  ...      ...      ...       ...        ...   \n",
       "3110 -0.035857 -0.01792 -0.035857  ... -0.01792 -0.01792 -0.035857  -0.096940   \n",
       "3111 -0.035857 -0.01792 -0.035857  ... -0.01792 -0.01792 -0.035857  -0.096940   \n",
       "3112 -0.035857 -0.01792 -0.035857  ... -0.01792 -0.01792 -0.035857  -0.096940   \n",
       "3113 -0.035857 -0.01792 -0.035857  ... -0.01792 -0.01792 -0.035857  -0.096940   \n",
       "3114 -0.035857 -0.01792 -0.035857  ... -0.01792 -0.01792 -0.035857  10.315706   \n",
       "\n",
       "           67       68       69        70        71       72  \n",
       "0    -0.01792 -0.01792 -0.01792 -0.091744 -0.025347 -0.05383  \n",
       "1    -0.01792 -0.01792 -0.01792 -0.091744 -0.025347 -0.05383  \n",
       "2    -0.01792 -0.01792 -0.01792 -0.091744 -0.025347 -0.05383  \n",
       "3    -0.01792 -0.01792 -0.01792 -0.091744 -0.025347 -0.05383  \n",
       "4    -0.01792 -0.01792 -0.01792 -0.091744 -0.025347 -0.05383  \n",
       "...       ...      ...      ...       ...       ...      ...  \n",
       "3110 -0.01792 -0.01792 -0.01792 -0.091744 -0.025347 -0.05383  \n",
       "3111 -0.01792 -0.01792 -0.01792 -0.091744 -0.025347 -0.05383  \n",
       "3112 -0.01792 -0.01792 -0.01792 -0.091744 -0.025347 -0.05383  \n",
       "3113 -0.01792 -0.01792 -0.01792 -0.091744 -0.025347 -0.05383  \n",
       "3114 -0.01792 -0.01792 -0.01792 -0.091744 -0.025347 -0.05383  \n",
       "\n",
       "[3115 rows x 73 columns]"
      ]
     },
     "execution_count": 158,
     "metadata": {},
     "output_type": "execute_result"
    }
   ],
   "source": [
    "train_sc"
   ]
  },
  {
   "cell_type": "code",
   "execution_count": 159,
   "id": "cf14671e",
   "metadata": {},
   "outputs": [],
   "source": [
    "test_sc=pd.DataFrame(test_sc)"
   ]
  },
  {
   "cell_type": "code",
   "execution_count": 160,
   "id": "d3519f36",
   "metadata": {},
   "outputs": [
    {
     "data": {
      "text/html": [
       "<div>\n",
       "<style scoped>\n",
       "    .dataframe tbody tr th:only-of-type {\n",
       "        vertical-align: middle;\n",
       "    }\n",
       "\n",
       "    .dataframe tbody tr th {\n",
       "        vertical-align: top;\n",
       "    }\n",
       "\n",
       "    .dataframe thead th {\n",
       "        text-align: right;\n",
       "    }\n",
       "</style>\n",
       "<table border=\"1\" class=\"dataframe\">\n",
       "  <thead>\n",
       "    <tr style=\"text-align: right;\">\n",
       "      <th></th>\n",
       "      <th>0</th>\n",
       "      <th>1</th>\n",
       "      <th>2</th>\n",
       "      <th>3</th>\n",
       "      <th>4</th>\n",
       "      <th>5</th>\n",
       "      <th>6</th>\n",
       "      <th>7</th>\n",
       "      <th>8</th>\n",
       "      <th>9</th>\n",
       "      <th>...</th>\n",
       "      <th>63</th>\n",
       "      <th>64</th>\n",
       "      <th>65</th>\n",
       "      <th>66</th>\n",
       "      <th>67</th>\n",
       "      <th>68</th>\n",
       "      <th>69</th>\n",
       "      <th>70</th>\n",
       "      <th>71</th>\n",
       "      <th>72</th>\n",
       "    </tr>\n",
       "  </thead>\n",
       "  <tbody>\n",
       "    <tr>\n",
       "      <th>0</th>\n",
       "      <td>-0.174355</td>\n",
       "      <td>-0.696902</td>\n",
       "      <td>-1.913423</td>\n",
       "      <td>-0.119698</td>\n",
       "      <td>-0.288273</td>\n",
       "      <td>-0.228056</td>\n",
       "      <td>-0.01792</td>\n",
       "      <td>-0.035857</td>\n",
       "      <td>-0.01792</td>\n",
       "      <td>-0.035857</td>\n",
       "      <td>...</td>\n",
       "      <td>-0.01792</td>\n",
       "      <td>-0.01792</td>\n",
       "      <td>-0.035857</td>\n",
       "      <td>-0.09694</td>\n",
       "      <td>-0.01792</td>\n",
       "      <td>-0.01792</td>\n",
       "      <td>-0.01792</td>\n",
       "      <td>-0.091744</td>\n",
       "      <td>-0.025347</td>\n",
       "      <td>-0.05383</td>\n",
       "    </tr>\n",
       "    <tr>\n",
       "      <th>1</th>\n",
       "      <td>-0.174355</td>\n",
       "      <td>-0.090519</td>\n",
       "      <td>-0.134756</td>\n",
       "      <td>-0.119698</td>\n",
       "      <td>-0.288273</td>\n",
       "      <td>-0.228056</td>\n",
       "      <td>-0.01792</td>\n",
       "      <td>-0.035857</td>\n",
       "      <td>-0.01792</td>\n",
       "      <td>-0.035857</td>\n",
       "      <td>...</td>\n",
       "      <td>-0.01792</td>\n",
       "      <td>-0.01792</td>\n",
       "      <td>-0.035857</td>\n",
       "      <td>-0.09694</td>\n",
       "      <td>-0.01792</td>\n",
       "      <td>-0.01792</td>\n",
       "      <td>-0.01792</td>\n",
       "      <td>-0.091744</td>\n",
       "      <td>-0.025347</td>\n",
       "      <td>-0.05383</td>\n",
       "    </tr>\n",
       "    <tr>\n",
       "      <th>2</th>\n",
       "      <td>0.039205</td>\n",
       "      <td>0.515863</td>\n",
       "      <td>0.754577</td>\n",
       "      <td>-0.119698</td>\n",
       "      <td>-0.288273</td>\n",
       "      <td>-0.228056</td>\n",
       "      <td>-0.01792</td>\n",
       "      <td>-0.035857</td>\n",
       "      <td>-0.01792</td>\n",
       "      <td>-0.035857</td>\n",
       "      <td>...</td>\n",
       "      <td>-0.01792</td>\n",
       "      <td>-0.01792</td>\n",
       "      <td>-0.035857</td>\n",
       "      <td>-0.09694</td>\n",
       "      <td>-0.01792</td>\n",
       "      <td>-0.01792</td>\n",
       "      <td>-0.01792</td>\n",
       "      <td>-0.091744</td>\n",
       "      <td>-0.025347</td>\n",
       "      <td>-0.05383</td>\n",
       "    </tr>\n",
       "    <tr>\n",
       "      <th>3</th>\n",
       "      <td>-0.163115</td>\n",
       "      <td>-0.090519</td>\n",
       "      <td>0.754577</td>\n",
       "      <td>-0.119698</td>\n",
       "      <td>-0.288273</td>\n",
       "      <td>-0.228056</td>\n",
       "      <td>-0.01792</td>\n",
       "      <td>-0.035857</td>\n",
       "      <td>-0.01792</td>\n",
       "      <td>-0.035857</td>\n",
       "      <td>...</td>\n",
       "      <td>-0.01792</td>\n",
       "      <td>-0.01792</td>\n",
       "      <td>-0.035857</td>\n",
       "      <td>-0.09694</td>\n",
       "      <td>-0.01792</td>\n",
       "      <td>-0.01792</td>\n",
       "      <td>-0.01792</td>\n",
       "      <td>-0.091744</td>\n",
       "      <td>-0.025347</td>\n",
       "      <td>-0.05383</td>\n",
       "    </tr>\n",
       "    <tr>\n",
       "      <th>4</th>\n",
       "      <td>-0.140635</td>\n",
       "      <td>0.515863</td>\n",
       "      <td>0.754577</td>\n",
       "      <td>-0.119698</td>\n",
       "      <td>-0.288273</td>\n",
       "      <td>-0.228056</td>\n",
       "      <td>-0.01792</td>\n",
       "      <td>-0.035857</td>\n",
       "      <td>-0.01792</td>\n",
       "      <td>-0.035857</td>\n",
       "      <td>...</td>\n",
       "      <td>-0.01792</td>\n",
       "      <td>-0.01792</td>\n",
       "      <td>-0.035857</td>\n",
       "      <td>-0.09694</td>\n",
       "      <td>-0.01792</td>\n",
       "      <td>-0.01792</td>\n",
       "      <td>-0.01792</td>\n",
       "      <td>-0.091744</td>\n",
       "      <td>-0.025347</td>\n",
       "      <td>-0.05383</td>\n",
       "    </tr>\n",
       "    <tr>\n",
       "      <th>...</th>\n",
       "      <td>...</td>\n",
       "      <td>...</td>\n",
       "      <td>...</td>\n",
       "      <td>...</td>\n",
       "      <td>...</td>\n",
       "      <td>...</td>\n",
       "      <td>...</td>\n",
       "      <td>...</td>\n",
       "      <td>...</td>\n",
       "      <td>...</td>\n",
       "      <td>...</td>\n",
       "      <td>...</td>\n",
       "      <td>...</td>\n",
       "      <td>...</td>\n",
       "      <td>...</td>\n",
       "      <td>...</td>\n",
       "      <td>...</td>\n",
       "      <td>...</td>\n",
       "      <td>...</td>\n",
       "      <td>...</td>\n",
       "      <td>...</td>\n",
       "    </tr>\n",
       "    <tr>\n",
       "      <th>774</th>\n",
       "      <td>-0.163115</td>\n",
       "      <td>-0.696902</td>\n",
       "      <td>-1.024090</td>\n",
       "      <td>-0.119698</td>\n",
       "      <td>-0.288273</td>\n",
       "      <td>-0.228056</td>\n",
       "      <td>-0.01792</td>\n",
       "      <td>-0.035857</td>\n",
       "      <td>-0.01792</td>\n",
       "      <td>-0.035857</td>\n",
       "      <td>...</td>\n",
       "      <td>-0.01792</td>\n",
       "      <td>-0.01792</td>\n",
       "      <td>-0.035857</td>\n",
       "      <td>-0.09694</td>\n",
       "      <td>-0.01792</td>\n",
       "      <td>-0.01792</td>\n",
       "      <td>-0.01792</td>\n",
       "      <td>-0.091744</td>\n",
       "      <td>-0.025347</td>\n",
       "      <td>-0.05383</td>\n",
       "    </tr>\n",
       "    <tr>\n",
       "      <th>775</th>\n",
       "      <td>-0.140635</td>\n",
       "      <td>0.515863</td>\n",
       "      <td>0.754577</td>\n",
       "      <td>-0.119698</td>\n",
       "      <td>-0.288273</td>\n",
       "      <td>-0.228056</td>\n",
       "      <td>-0.01792</td>\n",
       "      <td>-0.035857</td>\n",
       "      <td>-0.01792</td>\n",
       "      <td>-0.035857</td>\n",
       "      <td>...</td>\n",
       "      <td>-0.01792</td>\n",
       "      <td>-0.01792</td>\n",
       "      <td>-0.035857</td>\n",
       "      <td>-0.09694</td>\n",
       "      <td>-0.01792</td>\n",
       "      <td>-0.01792</td>\n",
       "      <td>-0.01792</td>\n",
       "      <td>-0.091744</td>\n",
       "      <td>-0.025347</td>\n",
       "      <td>-0.05383</td>\n",
       "    </tr>\n",
       "    <tr>\n",
       "      <th>776</th>\n",
       "      <td>-0.140635</td>\n",
       "      <td>-0.696902</td>\n",
       "      <td>-0.134756</td>\n",
       "      <td>-0.119698</td>\n",
       "      <td>-0.288273</td>\n",
       "      <td>-0.228056</td>\n",
       "      <td>-0.01792</td>\n",
       "      <td>-0.035857</td>\n",
       "      <td>-0.01792</td>\n",
       "      <td>-0.035857</td>\n",
       "      <td>...</td>\n",
       "      <td>-0.01792</td>\n",
       "      <td>-0.01792</td>\n",
       "      <td>-0.035857</td>\n",
       "      <td>-0.09694</td>\n",
       "      <td>-0.01792</td>\n",
       "      <td>-0.01792</td>\n",
       "      <td>-0.01792</td>\n",
       "      <td>-0.091744</td>\n",
       "      <td>-0.025347</td>\n",
       "      <td>-0.05383</td>\n",
       "    </tr>\n",
       "    <tr>\n",
       "      <th>777</th>\n",
       "      <td>-0.095675</td>\n",
       "      <td>0.515863</td>\n",
       "      <td>0.754577</td>\n",
       "      <td>-0.119698</td>\n",
       "      <td>-0.288273</td>\n",
       "      <td>-0.228056</td>\n",
       "      <td>-0.01792</td>\n",
       "      <td>-0.035857</td>\n",
       "      <td>-0.01792</td>\n",
       "      <td>-0.035857</td>\n",
       "      <td>...</td>\n",
       "      <td>-0.01792</td>\n",
       "      <td>-0.01792</td>\n",
       "      <td>-0.035857</td>\n",
       "      <td>-0.09694</td>\n",
       "      <td>-0.01792</td>\n",
       "      <td>-0.01792</td>\n",
       "      <td>-0.01792</td>\n",
       "      <td>-0.091744</td>\n",
       "      <td>-0.025347</td>\n",
       "      <td>-0.05383</td>\n",
       "    </tr>\n",
       "    <tr>\n",
       "      <th>778</th>\n",
       "      <td>-0.028235</td>\n",
       "      <td>0.515863</td>\n",
       "      <td>0.754577</td>\n",
       "      <td>-0.119698</td>\n",
       "      <td>-0.288273</td>\n",
       "      <td>-0.228056</td>\n",
       "      <td>-0.01792</td>\n",
       "      <td>-0.035857</td>\n",
       "      <td>-0.01792</td>\n",
       "      <td>-0.035857</td>\n",
       "      <td>...</td>\n",
       "      <td>-0.01792</td>\n",
       "      <td>-0.01792</td>\n",
       "      <td>-0.035857</td>\n",
       "      <td>-0.09694</td>\n",
       "      <td>-0.01792</td>\n",
       "      <td>-0.01792</td>\n",
       "      <td>-0.01792</td>\n",
       "      <td>-0.091744</td>\n",
       "      <td>-0.025347</td>\n",
       "      <td>-0.05383</td>\n",
       "    </tr>\n",
       "  </tbody>\n",
       "</table>\n",
       "<p>779 rows × 73 columns</p>\n",
       "</div>"
      ],
      "text/plain": [
       "           0         1         2         3         4         5        6   \\\n",
       "0   -0.174355 -0.696902 -1.913423 -0.119698 -0.288273 -0.228056 -0.01792   \n",
       "1   -0.174355 -0.090519 -0.134756 -0.119698 -0.288273 -0.228056 -0.01792   \n",
       "2    0.039205  0.515863  0.754577 -0.119698 -0.288273 -0.228056 -0.01792   \n",
       "3   -0.163115 -0.090519  0.754577 -0.119698 -0.288273 -0.228056 -0.01792   \n",
       "4   -0.140635  0.515863  0.754577 -0.119698 -0.288273 -0.228056 -0.01792   \n",
       "..        ...       ...       ...       ...       ...       ...      ...   \n",
       "774 -0.163115 -0.696902 -1.024090 -0.119698 -0.288273 -0.228056 -0.01792   \n",
       "775 -0.140635  0.515863  0.754577 -0.119698 -0.288273 -0.228056 -0.01792   \n",
       "776 -0.140635 -0.696902 -0.134756 -0.119698 -0.288273 -0.228056 -0.01792   \n",
       "777 -0.095675  0.515863  0.754577 -0.119698 -0.288273 -0.228056 -0.01792   \n",
       "778 -0.028235  0.515863  0.754577 -0.119698 -0.288273 -0.228056 -0.01792   \n",
       "\n",
       "           7        8         9   ...       63       64        65       66  \\\n",
       "0   -0.035857 -0.01792 -0.035857  ... -0.01792 -0.01792 -0.035857 -0.09694   \n",
       "1   -0.035857 -0.01792 -0.035857  ... -0.01792 -0.01792 -0.035857 -0.09694   \n",
       "2   -0.035857 -0.01792 -0.035857  ... -0.01792 -0.01792 -0.035857 -0.09694   \n",
       "3   -0.035857 -0.01792 -0.035857  ... -0.01792 -0.01792 -0.035857 -0.09694   \n",
       "4   -0.035857 -0.01792 -0.035857  ... -0.01792 -0.01792 -0.035857 -0.09694   \n",
       "..        ...      ...       ...  ...      ...      ...       ...      ...   \n",
       "774 -0.035857 -0.01792 -0.035857  ... -0.01792 -0.01792 -0.035857 -0.09694   \n",
       "775 -0.035857 -0.01792 -0.035857  ... -0.01792 -0.01792 -0.035857 -0.09694   \n",
       "776 -0.035857 -0.01792 -0.035857  ... -0.01792 -0.01792 -0.035857 -0.09694   \n",
       "777 -0.035857 -0.01792 -0.035857  ... -0.01792 -0.01792 -0.035857 -0.09694   \n",
       "778 -0.035857 -0.01792 -0.035857  ... -0.01792 -0.01792 -0.035857 -0.09694   \n",
       "\n",
       "          67       68       69        70        71       72  \n",
       "0   -0.01792 -0.01792 -0.01792 -0.091744 -0.025347 -0.05383  \n",
       "1   -0.01792 -0.01792 -0.01792 -0.091744 -0.025347 -0.05383  \n",
       "2   -0.01792 -0.01792 -0.01792 -0.091744 -0.025347 -0.05383  \n",
       "3   -0.01792 -0.01792 -0.01792 -0.091744 -0.025347 -0.05383  \n",
       "4   -0.01792 -0.01792 -0.01792 -0.091744 -0.025347 -0.05383  \n",
       "..       ...      ...      ...       ...       ...      ...  \n",
       "774 -0.01792 -0.01792 -0.01792 -0.091744 -0.025347 -0.05383  \n",
       "775 -0.01792 -0.01792 -0.01792 -0.091744 -0.025347 -0.05383  \n",
       "776 -0.01792 -0.01792 -0.01792 -0.091744 -0.025347 -0.05383  \n",
       "777 -0.01792 -0.01792 -0.01792 -0.091744 -0.025347 -0.05383  \n",
       "778 -0.01792 -0.01792 -0.01792 -0.091744 -0.025347 -0.05383  \n",
       "\n",
       "[779 rows x 73 columns]"
      ]
     },
     "execution_count": 160,
     "metadata": {},
     "output_type": "execute_result"
    }
   ],
   "source": [
    "test_sc"
   ]
  },
  {
   "cell_type": "code",
   "execution_count": 161,
   "id": "958b37b2",
   "metadata": {},
   "outputs": [
    {
     "data": {
      "text/plain": [
       "0.5922143390102292"
      ]
     },
     "execution_count": 161,
     "metadata": {},
     "output_type": "execute_result"
    }
   ],
   "source": [
    "lc.fit(train_sc,y_train)\n",
    "lc.score(test_sc,y_test)"
   ]
  },
  {
   "cell_type": "code",
   "execution_count": 162,
   "id": "89edc40c",
   "metadata": {},
   "outputs": [],
   "source": [
    "lc2=LinearRegression()"
   ]
  },
  {
   "cell_type": "code",
   "execution_count": 163,
   "id": "f15c06e6",
   "metadata": {},
   "outputs": [
    {
     "data": {
      "text/html": [
       "<style>#sk-container-id-15 {color: black;}#sk-container-id-15 pre{padding: 0;}#sk-container-id-15 div.sk-toggleable {background-color: white;}#sk-container-id-15 label.sk-toggleable__label {cursor: pointer;display: block;width: 100%;margin-bottom: 0;padding: 0.3em;box-sizing: border-box;text-align: center;}#sk-container-id-15 label.sk-toggleable__label-arrow:before {content: \"▸\";float: left;margin-right: 0.25em;color: #696969;}#sk-container-id-15 label.sk-toggleable__label-arrow:hover:before {color: black;}#sk-container-id-15 div.sk-estimator:hover label.sk-toggleable__label-arrow:before {color: black;}#sk-container-id-15 div.sk-toggleable__content {max-height: 0;max-width: 0;overflow: hidden;text-align: left;background-color: #f0f8ff;}#sk-container-id-15 div.sk-toggleable__content pre {margin: 0.2em;color: black;border-radius: 0.25em;background-color: #f0f8ff;}#sk-container-id-15 input.sk-toggleable__control:checked~div.sk-toggleable__content {max-height: 200px;max-width: 100%;overflow: auto;}#sk-container-id-15 input.sk-toggleable__control:checked~label.sk-toggleable__label-arrow:before {content: \"▾\";}#sk-container-id-15 div.sk-estimator input.sk-toggleable__control:checked~label.sk-toggleable__label {background-color: #d4ebff;}#sk-container-id-15 div.sk-label input.sk-toggleable__control:checked~label.sk-toggleable__label {background-color: #d4ebff;}#sk-container-id-15 input.sk-hidden--visually {border: 0;clip: rect(1px 1px 1px 1px);clip: rect(1px, 1px, 1px, 1px);height: 1px;margin: -1px;overflow: hidden;padding: 0;position: absolute;width: 1px;}#sk-container-id-15 div.sk-estimator {font-family: monospace;background-color: #f0f8ff;border: 1px dotted black;border-radius: 0.25em;box-sizing: border-box;margin-bottom: 0.5em;}#sk-container-id-15 div.sk-estimator:hover {background-color: #d4ebff;}#sk-container-id-15 div.sk-parallel-item::after {content: \"\";width: 100%;border-bottom: 1px solid gray;flex-grow: 1;}#sk-container-id-15 div.sk-label:hover label.sk-toggleable__label {background-color: #d4ebff;}#sk-container-id-15 div.sk-serial::before {content: \"\";position: absolute;border-left: 1px solid gray;box-sizing: border-box;top: 0;bottom: 0;left: 50%;z-index: 0;}#sk-container-id-15 div.sk-serial {display: flex;flex-direction: column;align-items: center;background-color: white;padding-right: 0.2em;padding-left: 0.2em;position: relative;}#sk-container-id-15 div.sk-item {position: relative;z-index: 1;}#sk-container-id-15 div.sk-parallel {display: flex;align-items: stretch;justify-content: center;background-color: white;position: relative;}#sk-container-id-15 div.sk-item::before, #sk-container-id-15 div.sk-parallel-item::before {content: \"\";position: absolute;border-left: 1px solid gray;box-sizing: border-box;top: 0;bottom: 0;left: 50%;z-index: -1;}#sk-container-id-15 div.sk-parallel-item {display: flex;flex-direction: column;z-index: 1;position: relative;background-color: white;}#sk-container-id-15 div.sk-parallel-item:first-child::after {align-self: flex-end;width: 50%;}#sk-container-id-15 div.sk-parallel-item:last-child::after {align-self: flex-start;width: 50%;}#sk-container-id-15 div.sk-parallel-item:only-child::after {width: 0;}#sk-container-id-15 div.sk-dashed-wrapped {border: 1px dashed gray;margin: 0 0.4em 0.5em 0.4em;box-sizing: border-box;padding-bottom: 0.4em;background-color: white;}#sk-container-id-15 div.sk-label label {font-family: monospace;font-weight: bold;display: inline-block;line-height: 1.2em;}#sk-container-id-15 div.sk-label-container {text-align: center;}#sk-container-id-15 div.sk-container {/* jupyter's `normalize.less` sets `[hidden] { display: none; }` but bootstrap.min.css set `[hidden] { display: none !important; }` so we also need the `!important` here to be able to override the default hidden behavior on the sphinx rendered scikit-learn.org. See: https://github.com/scikit-learn/scikit-learn/issues/21755 */display: inline-block !important;position: relative;}#sk-container-id-15 div.sk-text-repr-fallback {display: none;}</style><div id=\"sk-container-id-15\" class=\"sk-top-container\"><div class=\"sk-text-repr-fallback\"><pre>LinearRegression()</pre><b>In a Jupyter environment, please rerun this cell to show the HTML representation or trust the notebook. <br />On GitHub, the HTML representation is unable to render, please try loading this page with nbviewer.org.</b></div><div class=\"sk-container\" hidden><div class=\"sk-item\"><div class=\"sk-estimator sk-toggleable\"><input class=\"sk-toggleable__control sk-hidden--visually\" id=\"sk-estimator-id-15\" type=\"checkbox\" checked><label for=\"sk-estimator-id-15\" class=\"sk-toggleable__label sk-toggleable__label-arrow\">LinearRegression</label><div class=\"sk-toggleable__content\"><pre>LinearRegression()</pre></div></div></div></div></div>"
      ],
      "text/plain": [
       "LinearRegression()"
      ]
     },
     "execution_count": 163,
     "metadata": {},
     "output_type": "execute_result"
    }
   ],
   "source": [
    "lc2.fit(train_sc,y_train)"
   ]
  },
  {
   "cell_type": "code",
   "execution_count": 164,
   "id": "d44d325a",
   "metadata": {},
   "outputs": [
    {
     "data": {
      "text/plain": [
       "0.5922143390102292"
      ]
     },
     "execution_count": 164,
     "metadata": {},
     "output_type": "execute_result"
    }
   ],
   "source": [
    "lc2.score(test_sc,y_test)"
   ]
  },
  {
   "cell_type": "code",
   "execution_count": 165,
   "id": "9bf8dc67",
   "metadata": {},
   "outputs": [],
   "source": [
    "rr2=RandomForestRegressor()"
   ]
  },
  {
   "cell_type": "code",
   "execution_count": 166,
   "id": "fb404619",
   "metadata": {},
   "outputs": [
    {
     "data": {
      "text/html": [
       "<style>#sk-container-id-16 {color: black;}#sk-container-id-16 pre{padding: 0;}#sk-container-id-16 div.sk-toggleable {background-color: white;}#sk-container-id-16 label.sk-toggleable__label {cursor: pointer;display: block;width: 100%;margin-bottom: 0;padding: 0.3em;box-sizing: border-box;text-align: center;}#sk-container-id-16 label.sk-toggleable__label-arrow:before {content: \"▸\";float: left;margin-right: 0.25em;color: #696969;}#sk-container-id-16 label.sk-toggleable__label-arrow:hover:before {color: black;}#sk-container-id-16 div.sk-estimator:hover label.sk-toggleable__label-arrow:before {color: black;}#sk-container-id-16 div.sk-toggleable__content {max-height: 0;max-width: 0;overflow: hidden;text-align: left;background-color: #f0f8ff;}#sk-container-id-16 div.sk-toggleable__content pre {margin: 0.2em;color: black;border-radius: 0.25em;background-color: #f0f8ff;}#sk-container-id-16 input.sk-toggleable__control:checked~div.sk-toggleable__content {max-height: 200px;max-width: 100%;overflow: auto;}#sk-container-id-16 input.sk-toggleable__control:checked~label.sk-toggleable__label-arrow:before {content: \"▾\";}#sk-container-id-16 div.sk-estimator input.sk-toggleable__control:checked~label.sk-toggleable__label {background-color: #d4ebff;}#sk-container-id-16 div.sk-label input.sk-toggleable__control:checked~label.sk-toggleable__label {background-color: #d4ebff;}#sk-container-id-16 input.sk-hidden--visually {border: 0;clip: rect(1px 1px 1px 1px);clip: rect(1px, 1px, 1px, 1px);height: 1px;margin: -1px;overflow: hidden;padding: 0;position: absolute;width: 1px;}#sk-container-id-16 div.sk-estimator {font-family: monospace;background-color: #f0f8ff;border: 1px dotted black;border-radius: 0.25em;box-sizing: border-box;margin-bottom: 0.5em;}#sk-container-id-16 div.sk-estimator:hover {background-color: #d4ebff;}#sk-container-id-16 div.sk-parallel-item::after {content: \"\";width: 100%;border-bottom: 1px solid gray;flex-grow: 1;}#sk-container-id-16 div.sk-label:hover label.sk-toggleable__label {background-color: #d4ebff;}#sk-container-id-16 div.sk-serial::before {content: \"\";position: absolute;border-left: 1px solid gray;box-sizing: border-box;top: 0;bottom: 0;left: 50%;z-index: 0;}#sk-container-id-16 div.sk-serial {display: flex;flex-direction: column;align-items: center;background-color: white;padding-right: 0.2em;padding-left: 0.2em;position: relative;}#sk-container-id-16 div.sk-item {position: relative;z-index: 1;}#sk-container-id-16 div.sk-parallel {display: flex;align-items: stretch;justify-content: center;background-color: white;position: relative;}#sk-container-id-16 div.sk-item::before, #sk-container-id-16 div.sk-parallel-item::before {content: \"\";position: absolute;border-left: 1px solid gray;box-sizing: border-box;top: 0;bottom: 0;left: 50%;z-index: -1;}#sk-container-id-16 div.sk-parallel-item {display: flex;flex-direction: column;z-index: 1;position: relative;background-color: white;}#sk-container-id-16 div.sk-parallel-item:first-child::after {align-self: flex-end;width: 50%;}#sk-container-id-16 div.sk-parallel-item:last-child::after {align-self: flex-start;width: 50%;}#sk-container-id-16 div.sk-parallel-item:only-child::after {width: 0;}#sk-container-id-16 div.sk-dashed-wrapped {border: 1px dashed gray;margin: 0 0.4em 0.5em 0.4em;box-sizing: border-box;padding-bottom: 0.4em;background-color: white;}#sk-container-id-16 div.sk-label label {font-family: monospace;font-weight: bold;display: inline-block;line-height: 1.2em;}#sk-container-id-16 div.sk-label-container {text-align: center;}#sk-container-id-16 div.sk-container {/* jupyter's `normalize.less` sets `[hidden] { display: none; }` but bootstrap.min.css set `[hidden] { display: none !important; }` so we also need the `!important` here to be able to override the default hidden behavior on the sphinx rendered scikit-learn.org. See: https://github.com/scikit-learn/scikit-learn/issues/21755 */display: inline-block !important;position: relative;}#sk-container-id-16 div.sk-text-repr-fallback {display: none;}</style><div id=\"sk-container-id-16\" class=\"sk-top-container\"><div class=\"sk-text-repr-fallback\"><pre>RandomForestRegressor()</pre><b>In a Jupyter environment, please rerun this cell to show the HTML representation or trust the notebook. <br />On GitHub, the HTML representation is unable to render, please try loading this page with nbviewer.org.</b></div><div class=\"sk-container\" hidden><div class=\"sk-item\"><div class=\"sk-estimator sk-toggleable\"><input class=\"sk-toggleable__control sk-hidden--visually\" id=\"sk-estimator-id-16\" type=\"checkbox\" checked><label for=\"sk-estimator-id-16\" class=\"sk-toggleable__label sk-toggleable__label-arrow\">RandomForestRegressor</label><div class=\"sk-toggleable__content\"><pre>RandomForestRegressor()</pre></div></div></div></div></div>"
      ],
      "text/plain": [
       "RandomForestRegressor()"
      ]
     },
     "execution_count": 166,
     "metadata": {},
     "output_type": "execute_result"
    }
   ],
   "source": [
    "rr2.fit(train_sc,y_train)"
   ]
  },
  {
   "cell_type": "code",
   "execution_count": 167,
   "id": "0a7c9fcd",
   "metadata": {},
   "outputs": [
    {
     "data": {
      "text/plain": [
       "0.8805832554692653"
      ]
     },
     "execution_count": 167,
     "metadata": {},
     "output_type": "execute_result"
    }
   ],
   "source": [
    "rr2.score(train_sc,y_train)"
   ]
  },
  {
   "cell_type": "code",
   "execution_count": 168,
   "id": "bd873bcb",
   "metadata": {},
   "outputs": [],
   "source": [
    "dr2=DecisionTreeRegressor()"
   ]
  },
  {
   "cell_type": "code",
   "execution_count": 169,
   "id": "5be3b6b9",
   "metadata": {},
   "outputs": [
    {
     "data": {
      "text/html": [
       "<style>#sk-container-id-17 {color: black;}#sk-container-id-17 pre{padding: 0;}#sk-container-id-17 div.sk-toggleable {background-color: white;}#sk-container-id-17 label.sk-toggleable__label {cursor: pointer;display: block;width: 100%;margin-bottom: 0;padding: 0.3em;box-sizing: border-box;text-align: center;}#sk-container-id-17 label.sk-toggleable__label-arrow:before {content: \"▸\";float: left;margin-right: 0.25em;color: #696969;}#sk-container-id-17 label.sk-toggleable__label-arrow:hover:before {color: black;}#sk-container-id-17 div.sk-estimator:hover label.sk-toggleable__label-arrow:before {color: black;}#sk-container-id-17 div.sk-toggleable__content {max-height: 0;max-width: 0;overflow: hidden;text-align: left;background-color: #f0f8ff;}#sk-container-id-17 div.sk-toggleable__content pre {margin: 0.2em;color: black;border-radius: 0.25em;background-color: #f0f8ff;}#sk-container-id-17 input.sk-toggleable__control:checked~div.sk-toggleable__content {max-height: 200px;max-width: 100%;overflow: auto;}#sk-container-id-17 input.sk-toggleable__control:checked~label.sk-toggleable__label-arrow:before {content: \"▾\";}#sk-container-id-17 div.sk-estimator input.sk-toggleable__control:checked~label.sk-toggleable__label {background-color: #d4ebff;}#sk-container-id-17 div.sk-label input.sk-toggleable__control:checked~label.sk-toggleable__label {background-color: #d4ebff;}#sk-container-id-17 input.sk-hidden--visually {border: 0;clip: rect(1px 1px 1px 1px);clip: rect(1px, 1px, 1px, 1px);height: 1px;margin: -1px;overflow: hidden;padding: 0;position: absolute;width: 1px;}#sk-container-id-17 div.sk-estimator {font-family: monospace;background-color: #f0f8ff;border: 1px dotted black;border-radius: 0.25em;box-sizing: border-box;margin-bottom: 0.5em;}#sk-container-id-17 div.sk-estimator:hover {background-color: #d4ebff;}#sk-container-id-17 div.sk-parallel-item::after {content: \"\";width: 100%;border-bottom: 1px solid gray;flex-grow: 1;}#sk-container-id-17 div.sk-label:hover label.sk-toggleable__label {background-color: #d4ebff;}#sk-container-id-17 div.sk-serial::before {content: \"\";position: absolute;border-left: 1px solid gray;box-sizing: border-box;top: 0;bottom: 0;left: 50%;z-index: 0;}#sk-container-id-17 div.sk-serial {display: flex;flex-direction: column;align-items: center;background-color: white;padding-right: 0.2em;padding-left: 0.2em;position: relative;}#sk-container-id-17 div.sk-item {position: relative;z-index: 1;}#sk-container-id-17 div.sk-parallel {display: flex;align-items: stretch;justify-content: center;background-color: white;position: relative;}#sk-container-id-17 div.sk-item::before, #sk-container-id-17 div.sk-parallel-item::before {content: \"\";position: absolute;border-left: 1px solid gray;box-sizing: border-box;top: 0;bottom: 0;left: 50%;z-index: -1;}#sk-container-id-17 div.sk-parallel-item {display: flex;flex-direction: column;z-index: 1;position: relative;background-color: white;}#sk-container-id-17 div.sk-parallel-item:first-child::after {align-self: flex-end;width: 50%;}#sk-container-id-17 div.sk-parallel-item:last-child::after {align-self: flex-start;width: 50%;}#sk-container-id-17 div.sk-parallel-item:only-child::after {width: 0;}#sk-container-id-17 div.sk-dashed-wrapped {border: 1px dashed gray;margin: 0 0.4em 0.5em 0.4em;box-sizing: border-box;padding-bottom: 0.4em;background-color: white;}#sk-container-id-17 div.sk-label label {font-family: monospace;font-weight: bold;display: inline-block;line-height: 1.2em;}#sk-container-id-17 div.sk-label-container {text-align: center;}#sk-container-id-17 div.sk-container {/* jupyter's `normalize.less` sets `[hidden] { display: none; }` but bootstrap.min.css set `[hidden] { display: none !important; }` so we also need the `!important` here to be able to override the default hidden behavior on the sphinx rendered scikit-learn.org. See: https://github.com/scikit-learn/scikit-learn/issues/21755 */display: inline-block !important;position: relative;}#sk-container-id-17 div.sk-text-repr-fallback {display: none;}</style><div id=\"sk-container-id-17\" class=\"sk-top-container\"><div class=\"sk-text-repr-fallback\"><pre>DecisionTreeRegressor()</pre><b>In a Jupyter environment, please rerun this cell to show the HTML representation or trust the notebook. <br />On GitHub, the HTML representation is unable to render, please try loading this page with nbviewer.org.</b></div><div class=\"sk-container\" hidden><div class=\"sk-item\"><div class=\"sk-estimator sk-toggleable\"><input class=\"sk-toggleable__control sk-hidden--visually\" id=\"sk-estimator-id-17\" type=\"checkbox\" checked><label for=\"sk-estimator-id-17\" class=\"sk-toggleable__label sk-toggleable__label-arrow\">DecisionTreeRegressor</label><div class=\"sk-toggleable__content\"><pre>DecisionTreeRegressor()</pre></div></div></div></div></div>"
      ],
      "text/plain": [
       "DecisionTreeRegressor()"
      ]
     },
     "execution_count": 169,
     "metadata": {},
     "output_type": "execute_result"
    }
   ],
   "source": [
    "dr2.fit(train_sc,y_train)"
   ]
  },
  {
   "cell_type": "code",
   "execution_count": 170,
   "id": "b616edf5",
   "metadata": {},
   "outputs": [
    {
     "data": {
      "text/plain": [
       "0.9042574047212896"
      ]
     },
     "execution_count": 170,
     "metadata": {},
     "output_type": "execute_result"
    }
   ],
   "source": [
    "dr2.score(train_sc,y_train)"
   ]
  },
  {
   "cell_type": "code",
   "execution_count": 171,
   "id": "94e04b5a",
   "metadata": {},
   "outputs": [],
   "source": [
    "knr2=KNeighborsRegressor()"
   ]
  },
  {
   "cell_type": "code",
   "execution_count": 172,
   "id": "ae26292f",
   "metadata": {},
   "outputs": [
    {
     "data": {
      "text/html": [
       "<style>#sk-container-id-18 {color: black;}#sk-container-id-18 pre{padding: 0;}#sk-container-id-18 div.sk-toggleable {background-color: white;}#sk-container-id-18 label.sk-toggleable__label {cursor: pointer;display: block;width: 100%;margin-bottom: 0;padding: 0.3em;box-sizing: border-box;text-align: center;}#sk-container-id-18 label.sk-toggleable__label-arrow:before {content: \"▸\";float: left;margin-right: 0.25em;color: #696969;}#sk-container-id-18 label.sk-toggleable__label-arrow:hover:before {color: black;}#sk-container-id-18 div.sk-estimator:hover label.sk-toggleable__label-arrow:before {color: black;}#sk-container-id-18 div.sk-toggleable__content {max-height: 0;max-width: 0;overflow: hidden;text-align: left;background-color: #f0f8ff;}#sk-container-id-18 div.sk-toggleable__content pre {margin: 0.2em;color: black;border-radius: 0.25em;background-color: #f0f8ff;}#sk-container-id-18 input.sk-toggleable__control:checked~div.sk-toggleable__content {max-height: 200px;max-width: 100%;overflow: auto;}#sk-container-id-18 input.sk-toggleable__control:checked~label.sk-toggleable__label-arrow:before {content: \"▾\";}#sk-container-id-18 div.sk-estimator input.sk-toggleable__control:checked~label.sk-toggleable__label {background-color: #d4ebff;}#sk-container-id-18 div.sk-label input.sk-toggleable__control:checked~label.sk-toggleable__label {background-color: #d4ebff;}#sk-container-id-18 input.sk-hidden--visually {border: 0;clip: rect(1px 1px 1px 1px);clip: rect(1px, 1px, 1px, 1px);height: 1px;margin: -1px;overflow: hidden;padding: 0;position: absolute;width: 1px;}#sk-container-id-18 div.sk-estimator {font-family: monospace;background-color: #f0f8ff;border: 1px dotted black;border-radius: 0.25em;box-sizing: border-box;margin-bottom: 0.5em;}#sk-container-id-18 div.sk-estimator:hover {background-color: #d4ebff;}#sk-container-id-18 div.sk-parallel-item::after {content: \"\";width: 100%;border-bottom: 1px solid gray;flex-grow: 1;}#sk-container-id-18 div.sk-label:hover label.sk-toggleable__label {background-color: #d4ebff;}#sk-container-id-18 div.sk-serial::before {content: \"\";position: absolute;border-left: 1px solid gray;box-sizing: border-box;top: 0;bottom: 0;left: 50%;z-index: 0;}#sk-container-id-18 div.sk-serial {display: flex;flex-direction: column;align-items: center;background-color: white;padding-right: 0.2em;padding-left: 0.2em;position: relative;}#sk-container-id-18 div.sk-item {position: relative;z-index: 1;}#sk-container-id-18 div.sk-parallel {display: flex;align-items: stretch;justify-content: center;background-color: white;position: relative;}#sk-container-id-18 div.sk-item::before, #sk-container-id-18 div.sk-parallel-item::before {content: \"\";position: absolute;border-left: 1px solid gray;box-sizing: border-box;top: 0;bottom: 0;left: 50%;z-index: -1;}#sk-container-id-18 div.sk-parallel-item {display: flex;flex-direction: column;z-index: 1;position: relative;background-color: white;}#sk-container-id-18 div.sk-parallel-item:first-child::after {align-self: flex-end;width: 50%;}#sk-container-id-18 div.sk-parallel-item:last-child::after {align-self: flex-start;width: 50%;}#sk-container-id-18 div.sk-parallel-item:only-child::after {width: 0;}#sk-container-id-18 div.sk-dashed-wrapped {border: 1px dashed gray;margin: 0 0.4em 0.5em 0.4em;box-sizing: border-box;padding-bottom: 0.4em;background-color: white;}#sk-container-id-18 div.sk-label label {font-family: monospace;font-weight: bold;display: inline-block;line-height: 1.2em;}#sk-container-id-18 div.sk-label-container {text-align: center;}#sk-container-id-18 div.sk-container {/* jupyter's `normalize.less` sets `[hidden] { display: none; }` but bootstrap.min.css set `[hidden] { display: none !important; }` so we also need the `!important` here to be able to override the default hidden behavior on the sphinx rendered scikit-learn.org. See: https://github.com/scikit-learn/scikit-learn/issues/21755 */display: inline-block !important;position: relative;}#sk-container-id-18 div.sk-text-repr-fallback {display: none;}</style><div id=\"sk-container-id-18\" class=\"sk-top-container\"><div class=\"sk-text-repr-fallback\"><pre>KNeighborsRegressor()</pre><b>In a Jupyter environment, please rerun this cell to show the HTML representation or trust the notebook. <br />On GitHub, the HTML representation is unable to render, please try loading this page with nbviewer.org.</b></div><div class=\"sk-container\" hidden><div class=\"sk-item\"><div class=\"sk-estimator sk-toggleable\"><input class=\"sk-toggleable__control sk-hidden--visually\" id=\"sk-estimator-id-18\" type=\"checkbox\" checked><label for=\"sk-estimator-id-18\" class=\"sk-toggleable__label sk-toggleable__label-arrow\">KNeighborsRegressor</label><div class=\"sk-toggleable__content\"><pre>KNeighborsRegressor()</pre></div></div></div></div></div>"
      ],
      "text/plain": [
       "KNeighborsRegressor()"
      ]
     },
     "execution_count": 172,
     "metadata": {},
     "output_type": "execute_result"
    }
   ],
   "source": [
    "knr2.fit(train_sc,y_train)"
   ]
  },
  {
   "cell_type": "code",
   "execution_count": 173,
   "id": "0716742e",
   "metadata": {},
   "outputs": [
    {
     "data": {
      "text/plain": [
       "0.7704023748245513"
      ]
     },
     "execution_count": 173,
     "metadata": {},
     "output_type": "execute_result"
    }
   ],
   "source": [
    "knr2.score(train_sc,y_train)"
   ]
  },
  {
   "cell_type": "markdown",
   "id": "8192588f",
   "metadata": {},
   "source": [
    "# before scaling random forest regressor gives highest accuracy and aftere scaling the data decision tree model gives highest accuracy and random forest model also..so for furthur analysis I use Decision tree regressor"
   ]
  },
  {
   "cell_type": "code",
   "execution_count": 174,
   "id": "8f7467de",
   "metadata": {},
   "outputs": [],
   "source": [
    "actual_pred=rr2.predict(test_sc)"
   ]
  },
  {
   "cell_type": "code",
   "execution_count": 175,
   "id": "3f77aaab",
   "metadata": {},
   "outputs": [
    {
     "data": {
      "text/plain": [
       "1931     90000\n",
       "2535     85000\n",
       "3380    700000\n",
       "2816     98000\n",
       "2044    229999\n",
       "         ...  \n",
       "3891    180000\n",
       "2543    265000\n",
       "637     140000\n",
       "151     310000\n",
       "2400    350000\n",
       "Name: Price, Length: 779, dtype: int32"
      ]
     },
     "execution_count": 175,
     "metadata": {},
     "output_type": "execute_result"
    }
   ],
   "source": [
    "y_test"
   ]
  },
  {
   "cell_type": "code",
   "execution_count": 176,
   "id": "dc4d7f7a",
   "metadata": {},
   "outputs": [
    {
     "data": {
      "text/plain": [
       "array([52500.])"
      ]
     },
     "execution_count": 176,
     "metadata": {},
     "output_type": "execute_result"
    }
   ],
   "source": [
    "dr2.predict([test_sc.iloc[1,:]])"
   ]
  },
  {
   "cell_type": "code",
   "execution_count": 177,
   "id": "eca8b751",
   "metadata": {},
   "outputs": [
    {
     "data": {
      "text/plain": [
       "array([73630.])"
      ]
     },
     "execution_count": 177,
     "metadata": {},
     "output_type": "execute_result"
    }
   ],
   "source": [
    "rr2.predict([test_sc.iloc[1,:]])"
   ]
  },
  {
   "cell_type": "code",
   "execution_count": 178,
   "id": "80e348a0",
   "metadata": {},
   "outputs": [
    {
     "name": "stderr",
     "output_type": "stream",
     "text": [
      "C:\\ProgramData\\anaconda3\\Lib\\site-packages\\sklearn\\base.py:464: UserWarning: X does not have valid feature names, but RandomForestRegressor was fitted with feature names\n",
      "  warnings.warn(\n"
     ]
    },
    {
     "data": {
      "text/plain": [
       "array([46781.78571429])"
      ]
     },
     "execution_count": 178,
     "metadata": {},
     "output_type": "execute_result"
    }
   ],
   "source": [
    "rr.predict([test_sc.iloc[1,:]])"
   ]
  },
  {
   "cell_type": "code",
   "execution_count": 179,
   "id": "e9592b19",
   "metadata": {},
   "outputs": [],
   "source": [
    "from sklearn.metrics import mean_squared_error , r2_score"
   ]
  },
  {
   "cell_type": "code",
   "execution_count": 180,
   "id": "d10940fe",
   "metadata": {},
   "outputs": [],
   "source": [
    "mse=mean_squared_error(actual_pred,y_test)"
   ]
  },
  {
   "cell_type": "code",
   "execution_count": 181,
   "id": "46bbcbe0",
   "metadata": {},
   "outputs": [
    {
     "data": {
      "text/plain": [
       "77510092689.2494"
      ]
     },
     "execution_count": 181,
     "metadata": {},
     "output_type": "execute_result"
    }
   ],
   "source": [
    "mse"
   ]
  },
  {
   "cell_type": "code",
   "execution_count": 182,
   "id": "7febc12d",
   "metadata": {},
   "outputs": [],
   "source": [
    "rmse=nm.sqrt(mse)"
   ]
  },
  {
   "cell_type": "code",
   "execution_count": 183,
   "id": "c38b033c",
   "metadata": {},
   "outputs": [
    {
     "data": {
      "text/plain": [
       "278406.3445563865"
      ]
     },
     "execution_count": 183,
     "metadata": {},
     "output_type": "execute_result"
    }
   ],
   "source": [
    "rmse"
   ]
  },
  {
   "cell_type": "code",
   "execution_count": 184,
   "id": "7e5313ff",
   "metadata": {},
   "outputs": [
    {
     "data": {
      "text/plain": [
       "0.7904160801177516"
      ]
     },
     "execution_count": 184,
     "metadata": {},
     "output_type": "execute_result"
    }
   ],
   "source": [
    "r2_score(actual_pred,y_test)"
   ]
  },
  {
   "cell_type": "code",
   "execution_count": 185,
   "id": "642a0f42",
   "metadata": {},
   "outputs": [
    {
     "name": "stderr",
     "output_type": "stream",
     "text": [
      "C:\\ProgramData\\anaconda3\\Lib\\site-packages\\sklearn\\base.py:464: UserWarning: X does not have valid feature names, but RandomForestRegressor was fitted with feature names\n",
      "  warnings.warn(\n"
     ]
    }
   ],
   "source": [
    "actual_val=rr.predict(test_sc)"
   ]
  },
  {
   "cell_type": "code",
   "execution_count": 186,
   "id": "39894116",
   "metadata": {},
   "outputs": [
    {
     "data": {
      "text/plain": [
       "-0.2580541575197628"
      ]
     },
     "execution_count": 186,
     "metadata": {},
     "output_type": "execute_result"
    }
   ],
   "source": [
    "r2_score(y_test,actual_val)"
   ]
  },
  {
   "cell_type": "code",
   "execution_count": 187,
   "id": "c3c2e163",
   "metadata": {},
   "outputs": [],
   "source": [
    "mse=mean_squared_error(actual_val,y_test)"
   ]
  },
  {
   "cell_type": "code",
   "execution_count": 188,
   "id": "5db264cb",
   "metadata": {},
   "outputs": [],
   "source": [
    "rmse=nm.sqrt(mse)"
   ]
  },
  {
   "cell_type": "code",
   "execution_count": 189,
   "id": "1e5ff9a4",
   "metadata": {},
   "outputs": [
    {
     "data": {
      "text/plain": [
       "703659.0912999016"
      ]
     },
     "execution_count": 189,
     "metadata": {},
     "output_type": "execute_result"
    }
   ],
   "source": [
    "rmse"
   ]
  },
  {
   "cell_type": "code",
   "execution_count": 190,
   "id": "d74d6707",
   "metadata": {},
   "outputs": [],
   "source": [
    "#now for rr without scaling"
   ]
  },
  {
   "cell_type": "code",
   "execution_count": 191,
   "id": "cd14047a",
   "metadata": {},
   "outputs": [
    {
     "name": "stderr",
     "output_type": "stream",
     "text": [
      "C:\\ProgramData\\anaconda3\\Lib\\site-packages\\sklearn\\base.py:464: UserWarning: X does not have valid feature names, but RandomForestRegressor was fitted with feature names\n",
      "  warnings.warn(\n"
     ]
    }
   ],
   "source": [
    "predict_rr_without_sc=rr.predict(test_sc)"
   ]
  },
  {
   "cell_type": "code",
   "execution_count": 192,
   "id": "d7bd62db",
   "metadata": {},
   "outputs": [
    {
     "data": {
      "text/plain": [
       "-0.2580541575197628"
      ]
     },
     "execution_count": 192,
     "metadata": {},
     "output_type": "execute_result"
    }
   ],
   "source": [
    "r2_score(y_test,predict_rr_without_sc)"
   ]
  },
  {
   "cell_type": "code",
   "execution_count": 193,
   "id": "f1ec73d5",
   "metadata": {},
   "outputs": [],
   "source": [
    "prediction_Acc=pd.DataFrame(dr2.predict(test_sc))"
   ]
  },
  {
   "cell_type": "code",
   "execution_count": 194,
   "id": "8f5fc00b",
   "metadata": {},
   "outputs": [
    {
     "data": {
      "text/html": [
       "<div>\n",
       "<style scoped>\n",
       "    .dataframe tbody tr th:only-of-type {\n",
       "        vertical-align: middle;\n",
       "    }\n",
       "\n",
       "    .dataframe tbody tr th {\n",
       "        vertical-align: top;\n",
       "    }\n",
       "\n",
       "    .dataframe thead th {\n",
       "        text-align: right;\n",
       "    }\n",
       "</style>\n",
       "<table border=\"1\" class=\"dataframe\">\n",
       "  <thead>\n",
       "    <tr style=\"text-align: right;\">\n",
       "      <th></th>\n",
       "      <th>0</th>\n",
       "    </tr>\n",
       "  </thead>\n",
       "  <tbody>\n",
       "    <tr>\n",
       "      <th>0</th>\n",
       "      <td>90000.0</td>\n",
       "    </tr>\n",
       "    <tr>\n",
       "      <th>1</th>\n",
       "      <td>52500.0</td>\n",
       "    </tr>\n",
       "    <tr>\n",
       "      <th>2</th>\n",
       "      <td>858000.0</td>\n",
       "    </tr>\n",
       "    <tr>\n",
       "      <th>3</th>\n",
       "      <td>80000.0</td>\n",
       "    </tr>\n",
       "    <tr>\n",
       "      <th>4</th>\n",
       "      <td>209595.0</td>\n",
       "    </tr>\n",
       "    <tr>\n",
       "      <th>...</th>\n",
       "      <td>...</td>\n",
       "    </tr>\n",
       "    <tr>\n",
       "      <th>774</th>\n",
       "      <td>160000.0</td>\n",
       "    </tr>\n",
       "    <tr>\n",
       "      <th>775</th>\n",
       "      <td>250000.0</td>\n",
       "    </tr>\n",
       "    <tr>\n",
       "      <th>776</th>\n",
       "      <td>134333.0</td>\n",
       "    </tr>\n",
       "    <tr>\n",
       "      <th>777</th>\n",
       "      <td>310128.0</td>\n",
       "    </tr>\n",
       "    <tr>\n",
       "      <th>778</th>\n",
       "      <td>323750.0</td>\n",
       "    </tr>\n",
       "  </tbody>\n",
       "</table>\n",
       "<p>779 rows × 1 columns</p>\n",
       "</div>"
      ],
      "text/plain": [
       "            0\n",
       "0     90000.0\n",
       "1     52500.0\n",
       "2    858000.0\n",
       "3     80000.0\n",
       "4    209595.0\n",
       "..        ...\n",
       "774  160000.0\n",
       "775  250000.0\n",
       "776  134333.0\n",
       "777  310128.0\n",
       "778  323750.0\n",
       "\n",
       "[779 rows x 1 columns]"
      ]
     },
     "execution_count": 194,
     "metadata": {},
     "output_type": "execute_result"
    }
   ],
   "source": [
    "prediction_Acc.round()"
   ]
  },
  {
   "cell_type": "code",
   "execution_count": 195,
   "id": "32cead4a",
   "metadata": {},
   "outputs": [
    {
     "data": {
      "text/plain": [
       "1931     90000\n",
       "2535     85000\n",
       "3380    700000\n",
       "2816     98000\n",
       "2044    229999\n",
       "         ...  \n",
       "3891    180000\n",
       "2543    265000\n",
       "637     140000\n",
       "151     310000\n",
       "2400    350000\n",
       "Name: Price, Length: 779, dtype: int32"
      ]
     },
     "execution_count": 195,
     "metadata": {},
     "output_type": "execute_result"
    }
   ],
   "source": [
    "y_test"
   ]
  },
  {
   "cell_type": "code",
   "execution_count": 196,
   "id": "1de7e1ef",
   "metadata": {},
   "outputs": [],
   "source": [
    "import pickle"
   ]
  },
  {
   "cell_type": "code",
   "execution_count": 197,
   "id": "2df0edfc",
   "metadata": {},
   "outputs": [],
   "source": [
    "pickle.dump(dr2,open(\"house_pred_islama_ml_model.pkl\",'wb'))"
   ]
  },
  {
   "cell_type": "code",
   "execution_count": 208,
   "id": "54246acd",
   "metadata": {},
   "outputs": [
    {
     "ename": "TypeError",
     "evalue": "unhashable type: 'list'",
     "output_type": "error",
     "traceback": [
      "\u001b[1;31m---------------------------------------------------------------------------\u001b[0m",
      "\u001b[1;31mTypeError\u001b[0m                                 Traceback (most recent call last)",
      "Cell \u001b[1;32mIn[208], line 1\u001b[0m\n\u001b[1;32m----> 1\u001b[0m x_test\u001b[38;5;241m.\u001b[39miloc([\u001b[38;5;241m0\u001b[39m,])\n",
      "File \u001b[1;32mC:\\ProgramData\\anaconda3\\Lib\\site-packages\\pandas\\core\\indexing.py:668\u001b[0m, in \u001b[0;36m_LocationIndexer.__call__\u001b[1;34m(self, axis)\u001b[0m\n\u001b[0;32m    665\u001b[0m new_self \u001b[38;5;241m=\u001b[39m \u001b[38;5;28mtype\u001b[39m(\u001b[38;5;28mself\u001b[39m)(\u001b[38;5;28mself\u001b[39m\u001b[38;5;241m.\u001b[39mname, \u001b[38;5;28mself\u001b[39m\u001b[38;5;241m.\u001b[39mobj)\n\u001b[0;32m    667\u001b[0m \u001b[38;5;28;01mif\u001b[39;00m axis \u001b[38;5;129;01mis\u001b[39;00m \u001b[38;5;129;01mnot\u001b[39;00m \u001b[38;5;28;01mNone\u001b[39;00m:\n\u001b[1;32m--> 668\u001b[0m     axis \u001b[38;5;241m=\u001b[39m \u001b[38;5;28mself\u001b[39m\u001b[38;5;241m.\u001b[39mobj\u001b[38;5;241m.\u001b[39m_get_axis_number(axis)\n\u001b[0;32m    669\u001b[0m new_self\u001b[38;5;241m.\u001b[39maxis \u001b[38;5;241m=\u001b[39m axis\n\u001b[0;32m    670\u001b[0m \u001b[38;5;28;01mreturn\u001b[39;00m new_self\n",
      "File \u001b[1;32mC:\\ProgramData\\anaconda3\\Lib\\site-packages\\pandas\\core\\generic.py:554\u001b[0m, in \u001b[0;36mNDFrame._get_axis_number\u001b[1;34m(cls, axis)\u001b[0m\n\u001b[0;32m    550\u001b[0m \u001b[38;5;129m@final\u001b[39m\n\u001b[0;32m    551\u001b[0m \u001b[38;5;129m@classmethod\u001b[39m\n\u001b[0;32m    552\u001b[0m \u001b[38;5;28;01mdef\u001b[39;00m \u001b[38;5;21m_get_axis_number\u001b[39m(\u001b[38;5;28mcls\u001b[39m, axis: Axis) \u001b[38;5;241m-\u001b[39m\u001b[38;5;241m>\u001b[39m \u001b[38;5;28mint\u001b[39m:\n\u001b[0;32m    553\u001b[0m     \u001b[38;5;28;01mtry\u001b[39;00m:\n\u001b[1;32m--> 554\u001b[0m         \u001b[38;5;28;01mreturn\u001b[39;00m \u001b[38;5;28mcls\u001b[39m\u001b[38;5;241m.\u001b[39m_AXIS_TO_AXIS_NUMBER[axis]\n\u001b[0;32m    555\u001b[0m     \u001b[38;5;28;01mexcept\u001b[39;00m \u001b[38;5;167;01mKeyError\u001b[39;00m:\n\u001b[0;32m    556\u001b[0m         \u001b[38;5;28;01mraise\u001b[39;00m \u001b[38;5;167;01mValueError\u001b[39;00m(\u001b[38;5;124mf\u001b[39m\u001b[38;5;124m\"\u001b[39m\u001b[38;5;124mNo axis named \u001b[39m\u001b[38;5;132;01m{\u001b[39;00maxis\u001b[38;5;132;01m}\u001b[39;00m\u001b[38;5;124m for object type \u001b[39m\u001b[38;5;132;01m{\u001b[39;00m\u001b[38;5;28mcls\u001b[39m\u001b[38;5;241m.\u001b[39m\u001b[38;5;18m__name__\u001b[39m\u001b[38;5;132;01m}\u001b[39;00m\u001b[38;5;124m\"\u001b[39m)\n",
      "\u001b[1;31mTypeError\u001b[0m: unhashable type: 'list'"
     ]
    }
   ],
   "source": [
    "x_test.iloc([0,])"
   ]
  },
  {
   "cell_type": "code",
   "execution_count": null,
   "id": "8ccc09be",
   "metadata": {},
   "outputs": [],
   "source": []
  },
  {
   "cell_type": "code",
   "execution_count": null,
   "id": "efd5c2b8",
   "metadata": {},
   "outputs": [],
   "source": []
  },
  {
   "cell_type": "code",
   "execution_count": null,
   "id": "b3385184",
   "metadata": {},
   "outputs": [],
   "source": []
  }
 ],
 "metadata": {
  "kernelspec": {
   "display_name": "Python 3 (ipykernel)",
   "language": "python",
   "name": "python3"
  },
  "language_info": {
   "codemirror_mode": {
    "name": "ipython",
    "version": 3
   },
   "file_extension": ".py",
   "mimetype": "text/x-python",
   "name": "python",
   "nbconvert_exporter": "python",
   "pygments_lexer": "ipython3",
   "version": "3.11.4"
  }
 },
 "nbformat": 4,
 "nbformat_minor": 5
}
